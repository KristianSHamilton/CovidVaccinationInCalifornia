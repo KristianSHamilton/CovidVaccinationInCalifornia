{
 "cells": [
  {
   "cell_type": "code",
   "execution_count": 1,
   "id": "a54978f6",
   "metadata": {},
   "outputs": [],
   "source": [
    "#import modules\n",
    "import pandas as pd\n",
    "import json\n",
    "import matplotlib.pyplot as plt\n",
    "import numpy as np\n",
    "import os\n",
    "import csv\n",
    "from pandas.api.types import CategoricalDtype\n",
    "low_memory = False"
   ]
  },
  {
   "cell_type": "code",
   "execution_count": 2,
   "id": "e32b42f9",
   "metadata": {},
   "outputs": [
    {
     "name": "stderr",
     "output_type": "stream",
     "text": [
      "C:\\Users\\Dell\\anaconda3\\lib\\site-packages\\IPython\\core\\interactiveshell.py:3165: DtypeWarning: Columns (6,7) have mixed types.Specify dtype option on import or set low_memory=False.\n",
      "  has_raised = await self.run_ast_nodes(code_ast.body, cell_name,\n"
     ]
    }
   ],
   "source": [
    "#read csv data from the CDC for CA\n",
    "csv_ca_cdc_path = \"./Resources/CA_cases_by_county/cdc_ca_output_data.csv\"\n",
    "ca_covid = pd.read_csv(csv_ca_cdc_path, encoding=\"utf-8\")\n",
    "ca_covid = pd.DataFrame(ca_covid)"
   ]
  },
  {
   "cell_type": "code",
   "execution_count": 3,
   "id": "b6732898",
   "metadata": {},
   "outputs": [],
   "source": [
    "#read in Population Data from the Department of Finance (which the CDC uses)\n",
    "#as well as partial/full vacciantion numbers\n",
    "ca_pop_vac_path = './Resources/CA_county_population_and_vaccination_data.csv'\n",
    "ca_pop_vac = pd.read_csv(ca_pop_vac_path)\n",
    "ca_popvac_df = pd.DataFrame(ca_pop_vac)"
   ]
  },
  {
   "cell_type": "code",
   "execution_count": 4,
   "id": "20c2cfc3",
   "metadata": {},
   "outputs": [
    {
     "name": "stdout",
     "output_type": "stream",
     "text": [
      "51\n"
     ]
    }
   ],
   "source": [
    "#make a list which counties are not included, though this may not be necessary for the final notebook.\n",
    "#it is important to mention in the presentation, however.\n",
    "print(len(ca_covid['res_county'].unique()))\n",
    "\n",
    "cdc_included_counties = ca_covid['res_county'].unique()\n",
    "cdc_included_counties = cdc_included_counties.tolist()\n",
    "\n",
    "counties_list = ['Alameda', 'Alpine', 'Amador' ,'Butte' ,'Calaveras' ,'Colusa' ,'Contra Costa' ,'Del Norte'\n",
    "                 ,'El Dorado' ,'Fresno' ,'Glenn' ,'Humboldt' ,'Imperial' ,'Inyo' ,'Kern' ,'Kings' ,'Lake' ,'Lassen',\n",
    "                 'Los Angeles' ,'Madera' ,'Marin' ,'Mariposa' ,'Mendocino' ,'Merced' ,'Modoc' ,'Mono' ,'Monterey' ,'Napa', \n",
    "                 'Nevada' ,'Orange' ,'Placer' ,'Plumas' ,'Riverside' ,'Sacramento' ,'San Benito' ,'San Bernardino' ,'San Diego' ,\n",
    "                 'San Francisco' ,'San Joaquin' ,'San Luis Obispo' ,'San Mateo' ,'Santa Barbara' ,'Santa Clara' ,'Santa Cruz' ,\n",
    "                 'Shasta' ,'Sierra' ,'Siskiyou' ,'Solano' ,'Sonoma' ,'Stanislaus' ,'Sutter' ,'Tehama' ,'Trinity' ,'Tulare' ,'Tuolumne' ,\n",
    "                 'Ventura' ,'Yolo' ,'Yuba']\n",
    "\n",
    "small_county = []\n",
    "#print(len(counties_list))\n",
    "for county in counties_list:\n",
    "    if county.upper() not in cdc_included_counties:\n",
    "        small_county.append(county)\n",
    "#print(small_county)"
   ]
  },
  {
   "cell_type": "code",
   "execution_count": 5,
   "id": "c3ac7cea",
   "metadata": {
    "scrolled": true
   },
   "outputs": [
    {
     "data": {
      "text/html": [
       "<div>\n",
       "<style scoped>\n",
       "    .dataframe tbody tr th:only-of-type {\n",
       "        vertical-align: middle;\n",
       "    }\n",
       "\n",
       "    .dataframe tbody tr th {\n",
       "        vertical-align: top;\n",
       "    }\n",
       "\n",
       "    .dataframe thead th {\n",
       "        text-align: right;\n",
       "    }\n",
       "</style>\n",
       "<table border=\"1\" class=\"dataframe\">\n",
       "  <thead>\n",
       "    <tr style=\"text-align: right;\">\n",
       "      <th></th>\n",
       "      <th>case_month</th>\n",
       "      <th>res_state</th>\n",
       "      <th>res_county</th>\n",
       "      <th>age_group</th>\n",
       "      <th>current_status</th>\n",
       "      <th>sex</th>\n",
       "      <th>race</th>\n",
       "      <th>ethnicity</th>\n",
       "    </tr>\n",
       "  </thead>\n",
       "  <tbody>\n",
       "    <tr>\n",
       "      <th>2</th>\n",
       "      <td>2021-01</td>\n",
       "      <td>CA</td>\n",
       "      <td>SANTA CLARA</td>\n",
       "      <td>0 - 17 years</td>\n",
       "      <td>Laboratory-confirmed case</td>\n",
       "      <td>Female</td>\n",
       "      <td>White</td>\n",
       "      <td>Non-Hispanic/Latino</td>\n",
       "    </tr>\n",
       "    <tr>\n",
       "      <th>7</th>\n",
       "      <td>2021-02</td>\n",
       "      <td>CA</td>\n",
       "      <td>SANTA BARBARA</td>\n",
       "      <td>0 - 17 years</td>\n",
       "      <td>Laboratory-confirmed case</td>\n",
       "      <td>Female</td>\n",
       "      <td>White</td>\n",
       "      <td>Non-Hispanic/Latino</td>\n",
       "    </tr>\n",
       "    <tr>\n",
       "      <th>9</th>\n",
       "      <td>2021-01</td>\n",
       "      <td>CA</td>\n",
       "      <td>VENTURA</td>\n",
       "      <td>18 to 49 years</td>\n",
       "      <td>Laboratory-confirmed case</td>\n",
       "      <td>Female</td>\n",
       "      <td>American Indian/Alaska Native</td>\n",
       "      <td>Hispanic/Latino</td>\n",
       "    </tr>\n",
       "    <tr>\n",
       "      <th>13</th>\n",
       "      <td>2021-03</td>\n",
       "      <td>CA</td>\n",
       "      <td>NEVADA</td>\n",
       "      <td>0 - 17 years</td>\n",
       "      <td>Laboratory-confirmed case</td>\n",
       "      <td>Female</td>\n",
       "      <td>White</td>\n",
       "      <td>Non-Hispanic/Latino</td>\n",
       "    </tr>\n",
       "    <tr>\n",
       "      <th>18</th>\n",
       "      <td>2021-02</td>\n",
       "      <td>CA</td>\n",
       "      <td>SOLANO</td>\n",
       "      <td>18 to 49 years</td>\n",
       "      <td>Laboratory-confirmed case</td>\n",
       "      <td>Female</td>\n",
       "      <td>White</td>\n",
       "      <td>Non-Hispanic/Latino</td>\n",
       "    </tr>\n",
       "  </tbody>\n",
       "</table>\n",
       "</div>"
      ],
      "text/plain": [
       "   case_month res_state     res_county       age_group  \\\n",
       "2     2021-01        CA    SANTA CLARA    0 - 17 years   \n",
       "7     2021-02        CA  SANTA BARBARA    0 - 17 years   \n",
       "9     2021-01        CA        VENTURA  18 to 49 years   \n",
       "13    2021-03        CA         NEVADA    0 - 17 years   \n",
       "18    2021-02        CA         SOLANO  18 to 49 years   \n",
       "\n",
       "               current_status     sex                           race  \\\n",
       "2   Laboratory-confirmed case  Female                          White   \n",
       "7   Laboratory-confirmed case  Female                          White   \n",
       "9   Laboratory-confirmed case  Female  American Indian/Alaska Native   \n",
       "13  Laboratory-confirmed case  Female                          White   \n",
       "18  Laboratory-confirmed case  Female                          White   \n",
       "\n",
       "              ethnicity  \n",
       "2   Non-Hispanic/Latino  \n",
       "7   Non-Hispanic/Latino  \n",
       "9       Hispanic/Latino  \n",
       "13  Non-Hispanic/Latino  \n",
       "18  Non-Hispanic/Latino  "
      ]
     },
     "execution_count": 5,
     "metadata": {},
     "output_type": "execute_result"
    }
   ],
   "source": [
    "#extract only the data for dates in 2021\n",
    "ca_covid_2021 = ca_covid.loc[(ca_covid['case_month'] == '2021-01') | (ca_covid['case_month'] == '2021-02') | \n",
    "                              (ca_covid['case_month'] == '2021-03') | (ca_covid['case_month'] == '2021-04')  \n",
    "                            | (ca_covid['case_month'] == '2021-05') | (ca_covid['case_month'] == '2021-06') \n",
    "                            | (ca_covid['case_month'] == '2021-07') ]                           \n",
    "\n",
    "ca_covid_2021.head()"
   ]
  },
  {
   "cell_type": "code",
   "execution_count": 6,
   "id": "bc9bbf7b",
   "metadata": {},
   "outputs": [
    {
     "name": "stdout",
     "output_type": "stream",
     "text": [
      "18 to 49 years    755943\n",
      "50 to 64 years    248834\n",
      "0 - 17 years      201041\n",
      "65+ years         136457\n",
      "Missing              548\n",
      "Name: age_group, dtype: int64\n"
     ]
    }
   ],
   "source": [
    "#get the value counts for demographics and case status\n",
    "\n",
    "#print(ca_covid.head(70))\n",
    "age_counts = ca_covid_2021['age_group'].value_counts()\n",
    "print(age_counts)\n",
    "case_status_counts = ca_covid_2021['current_status'].value_counts()\n",
    "#print(case_status_counts)\n",
    "sex_counts = ca_covid_2021['sex'].value_counts()\n",
    "#print(sex_counts)\n",
    "race_counts = ca_covid_2021['race'].value_counts()\n",
    "#print(race_counts)\n",
    "ethnicity_counts = ca_covid_2021['ethnicity'].value_counts\n",
    "#print(ethnicity_counts)\n",
    "\n",
    "\n",
    "#write out the modified dataframe\n",
    "ca_covid_2021 = ca_covid_2021.drop(columns=['res_state'])\n",
    "ca_covid_2021.head()\n",
    "ca_covid_2021.to_csv('./Resources/CA_cases_by_county/ca_2021_case_data.csv',\n",
    "                    index=False,header=True)"
   ]
  },
  {
   "cell_type": "code",
   "execution_count": 7,
   "id": "571b1375",
   "metadata": {},
   "outputs": [],
   "source": [
    "#convert the case_month to month names so that it can merge with Tikaram\n",
    "#use DatetimeIndex so that computer does not time out in for loop\n",
    "ca_covid_2021['month'] = pd.DatetimeIndex(ca_covid_2021['case_month']).month_name()"
   ]
  },
  {
   "cell_type": "code",
   "execution_count": 8,
   "id": "8a8dc4a2",
   "metadata": {},
   "outputs": [],
   "source": [
    "# ordering months to be sorted by position in the calendar rather than by alphabetical order\n",
    "#for graphing purposes. Code derived from Tikaram's notebook, and Andrew Morrision showed us how\n",
    "#to use the CategoricalDtype\n",
    "month = ca_covid_2021[\"month\"]\n",
    "\n",
    "month_order = CategoricalDtype(['December', 'January', 'February', 'March', 'April', \\\n",
    "                                'May', 'June', 'July', 'August'], ordered=True)\n",
    "\n",
    "ca_covid_2021['month'] = ca_covid_2021['month'].astype(month_order)\n"
   ]
  },
  {
   "cell_type": "code",
   "execution_count": null,
   "id": "0f7099d0",
   "metadata": {},
   "outputs": [],
   "source": [
    "\n"
   ]
  },
  {
   "cell_type": "code",
   "execution_count": null,
   "id": "6df51c98",
   "metadata": {},
   "outputs": [],
   "source": []
  },
  {
   "cell_type": "code",
   "execution_count": 9,
   "id": "00ff4c3b",
   "metadata": {},
   "outputs": [
    {
     "data": {
      "text/html": [
       "<div>\n",
       "<style scoped>\n",
       "    .dataframe tbody tr th:only-of-type {\n",
       "        vertical-align: middle;\n",
       "    }\n",
       "\n",
       "    .dataframe tbody tr th {\n",
       "        vertical-align: top;\n",
       "    }\n",
       "\n",
       "    .dataframe thead th {\n",
       "        text-align: right;\n",
       "    }\n",
       "</style>\n",
       "<table border=\"1\" class=\"dataframe\">\n",
       "  <thead>\n",
       "    <tr style=\"text-align: right;\">\n",
       "      <th></th>\n",
       "      <th>age_group</th>\n",
       "      <th>month</th>\n",
       "      <th>res_county</th>\n",
       "      <th>current_status</th>\n",
       "    </tr>\n",
       "  </thead>\n",
       "  <tbody>\n",
       "    <tr>\n",
       "      <th>2</th>\n",
       "      <td>0 - 17 years</td>\n",
       "      <td>January</td>\n",
       "      <td>SANTA CLARA</td>\n",
       "      <td>Laboratory-confirmed case</td>\n",
       "    </tr>\n",
       "    <tr>\n",
       "      <th>7</th>\n",
       "      <td>0 - 17 years</td>\n",
       "      <td>February</td>\n",
       "      <td>SANTA BARBARA</td>\n",
       "      <td>Laboratory-confirmed case</td>\n",
       "    </tr>\n",
       "    <tr>\n",
       "      <th>9</th>\n",
       "      <td>18 to 49 years</td>\n",
       "      <td>January</td>\n",
       "      <td>VENTURA</td>\n",
       "      <td>Laboratory-confirmed case</td>\n",
       "    </tr>\n",
       "  </tbody>\n",
       "</table>\n",
       "</div>"
      ],
      "text/plain": [
       "        age_group     month     res_county             current_status\n",
       "2    0 - 17 years   January    SANTA CLARA  Laboratory-confirmed case\n",
       "7    0 - 17 years  February  SANTA BARBARA  Laboratory-confirmed case\n",
       "9  18 to 49 years   January        VENTURA  Laboratory-confirmed case"
      ]
     },
     "execution_count": 9,
     "metadata": {},
     "output_type": "execute_result"
    }
   ],
   "source": [
    "# make smaller dataframes for each demographic with county, case month, current_status,\n",
    "# and demographic in the individual dataframes\n",
    "\n",
    "age_df = ca_covid_2021[['age_group','month', 'res_county', 'current_status']]\n",
    "age_df.head(3)"
   ]
  },
  {
   "cell_type": "code",
   "execution_count": null,
   "id": "3248bb2f",
   "metadata": {},
   "outputs": [],
   "source": []
  },
  {
   "cell_type": "code",
   "execution_count": 10,
   "id": "382d3505",
   "metadata": {},
   "outputs": [],
   "source": [
    "#bar graph goes here\n",
    "#x_axis = [1,2,3]\n",
    "#y_axis = age_df['age_group'].value_counts()\n",
    "#plt.bar(x_axis,y_axis)"
   ]
  },
  {
   "cell_type": "code",
   "execution_count": 11,
   "id": "88dcf8e5",
   "metadata": {},
   "outputs": [
    {
     "data": {
      "text/html": [
       "<div>\n",
       "<style scoped>\n",
       "    .dataframe tbody tr th:only-of-type {\n",
       "        vertical-align: middle;\n",
       "    }\n",
       "\n",
       "    .dataframe tbody tr th {\n",
       "        vertical-align: top;\n",
       "    }\n",
       "\n",
       "    .dataframe thead th {\n",
       "        text-align: right;\n",
       "    }\n",
       "</style>\n",
       "<table border=\"1\" class=\"dataframe\">\n",
       "  <thead>\n",
       "    <tr style=\"text-align: right;\">\n",
       "      <th></th>\n",
       "      <th>sex</th>\n",
       "      <th>month</th>\n",
       "      <th>res_county</th>\n",
       "      <th>current_status</th>\n",
       "    </tr>\n",
       "  </thead>\n",
       "  <tbody>\n",
       "    <tr>\n",
       "      <th>2</th>\n",
       "      <td>Female</td>\n",
       "      <td>January</td>\n",
       "      <td>SANTA CLARA</td>\n",
       "      <td>Laboratory-confirmed case</td>\n",
       "    </tr>\n",
       "    <tr>\n",
       "      <th>7</th>\n",
       "      <td>Female</td>\n",
       "      <td>February</td>\n",
       "      <td>SANTA BARBARA</td>\n",
       "      <td>Laboratory-confirmed case</td>\n",
       "    </tr>\n",
       "    <tr>\n",
       "      <th>9</th>\n",
       "      <td>Female</td>\n",
       "      <td>January</td>\n",
       "      <td>VENTURA</td>\n",
       "      <td>Laboratory-confirmed case</td>\n",
       "    </tr>\n",
       "  </tbody>\n",
       "</table>\n",
       "</div>"
      ],
      "text/plain": [
       "      sex     month     res_county             current_status\n",
       "2  Female   January    SANTA CLARA  Laboratory-confirmed case\n",
       "7  Female  February  SANTA BARBARA  Laboratory-confirmed case\n",
       "9  Female   January        VENTURA  Laboratory-confirmed case"
      ]
     },
     "execution_count": 11,
     "metadata": {},
     "output_type": "execute_result"
    }
   ],
   "source": [
    "sex_df = ca_covid_2021[['sex','month', 'res_county', 'current_status']]\n",
    "sex_df.head(3)\n"
   ]
  },
  {
   "cell_type": "code",
   "execution_count": 12,
   "id": "09efb9bb",
   "metadata": {},
   "outputs": [
    {
     "data": {
      "text/html": [
       "<div>\n",
       "<style scoped>\n",
       "    .dataframe tbody tr th:only-of-type {\n",
       "        vertical-align: middle;\n",
       "    }\n",
       "\n",
       "    .dataframe tbody tr th {\n",
       "        vertical-align: top;\n",
       "    }\n",
       "\n",
       "    .dataframe thead th {\n",
       "        text-align: right;\n",
       "    }\n",
       "</style>\n",
       "<table border=\"1\" class=\"dataframe\">\n",
       "  <thead>\n",
       "    <tr style=\"text-align: right;\">\n",
       "      <th></th>\n",
       "      <th>race</th>\n",
       "      <th>month</th>\n",
       "      <th>res_county</th>\n",
       "      <th>current_status</th>\n",
       "    </tr>\n",
       "  </thead>\n",
       "  <tbody>\n",
       "    <tr>\n",
       "      <th>2</th>\n",
       "      <td>White</td>\n",
       "      <td>January</td>\n",
       "      <td>SANTA CLARA</td>\n",
       "      <td>Laboratory-confirmed case</td>\n",
       "    </tr>\n",
       "    <tr>\n",
       "      <th>7</th>\n",
       "      <td>White</td>\n",
       "      <td>February</td>\n",
       "      <td>SANTA BARBARA</td>\n",
       "      <td>Laboratory-confirmed case</td>\n",
       "    </tr>\n",
       "    <tr>\n",
       "      <th>9</th>\n",
       "      <td>American Indian/Alaska Native</td>\n",
       "      <td>January</td>\n",
       "      <td>VENTURA</td>\n",
       "      <td>Laboratory-confirmed case</td>\n",
       "    </tr>\n",
       "  </tbody>\n",
       "</table>\n",
       "</div>"
      ],
      "text/plain": [
       "                            race     month     res_county  \\\n",
       "2                          White   January    SANTA CLARA   \n",
       "7                          White  February  SANTA BARBARA   \n",
       "9  American Indian/Alaska Native   January        VENTURA   \n",
       "\n",
       "              current_status  \n",
       "2  Laboratory-confirmed case  \n",
       "7  Laboratory-confirmed case  \n",
       "9  Laboratory-confirmed case  "
      ]
     },
     "execution_count": 12,
     "metadata": {},
     "output_type": "execute_result"
    }
   ],
   "source": [
    "race_df = ca_covid_2021[['race','month', 'res_county', 'current_status']]\n",
    "race_df.head(3)"
   ]
  },
  {
   "cell_type": "code",
   "execution_count": 13,
   "id": "397a500c",
   "metadata": {},
   "outputs": [
    {
     "data": {
      "text/plain": [
       "Non-Hispanic/Latino    434808\n",
       "Unknown                215134\n",
       "Hispanic/Latino        186220\n",
       "Name: ethnicity, dtype: int64"
      ]
     },
     "execution_count": 13,
     "metadata": {},
     "output_type": "execute_result"
    }
   ],
   "source": [
    "ethnicity_df = ca_covid_2021[['ethnicity','month', 'res_county', 'current_status']]\n",
    "ethnicity_df.head(3)\n",
    "ethnicity_df['ethnicity'].value_counts()"
   ]
  },
  {
   "cell_type": "code",
   "execution_count": null,
   "id": "ba7d57a7",
   "metadata": {},
   "outputs": [],
   "source": []
  },
  {
   "cell_type": "code",
   "execution_count": null,
   "id": "86f138ef",
   "metadata": {},
   "outputs": [],
   "source": []
  }
 ],
 "metadata": {
  "kernelspec": {
   "display_name": "Python 3",
   "language": "python",
   "name": "python3"
  },
  "language_info": {
   "codemirror_mode": {
    "name": "ipython",
    "version": 3
   },
   "file_extension": ".py",
   "mimetype": "text/x-python",
   "name": "python",
   "nbconvert_exporter": "python",
   "pygments_lexer": "ipython3",
   "version": "3.8.8"
  }
 },
 "nbformat": 4,
 "nbformat_minor": 5
}
