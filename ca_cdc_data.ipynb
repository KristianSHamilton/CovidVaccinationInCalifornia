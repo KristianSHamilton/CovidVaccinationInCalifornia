{
 "cells": [
  {
   "cell_type": "code",
   "execution_count": 1,
   "id": "a54978f6",
   "metadata": {},
   "outputs": [],
   "source": [
    "#import modules\n",
    "import pandas as pd\n",
    "import json\n",
    "import matplotlib.pyplot as plt\n",
    "from matplotlib.pyplot import figure\n",
    "import numpy as np\n",
    "import os\n",
    "import csv\n",
    "from pandas.api.types import CategoricalDtype\n",
    "low_memory = False"
   ]
  },
  {
   "cell_type": "code",
   "execution_count": 2,
   "id": "e32b42f9",
   "metadata": {},
   "outputs": [
    {
     "name": "stderr",
     "output_type": "stream",
     "text": [
      "C:\\Users\\Dell\\anaconda3\\lib\\site-packages\\IPython\\core\\interactiveshell.py:3165: DtypeWarning: Columns (6,7) have mixed types.Specify dtype option on import or set low_memory=False.\n",
      "  has_raised = await self.run_ast_nodes(code_ast.body, cell_name,\n"
     ]
    },
    {
     "data": {
      "text/html": [
       "<div>\n",
       "<style scoped>\n",
       "    .dataframe tbody tr th:only-of-type {\n",
       "        vertical-align: middle;\n",
       "    }\n",
       "\n",
       "    .dataframe tbody tr th {\n",
       "        vertical-align: top;\n",
       "    }\n",
       "\n",
       "    .dataframe thead th {\n",
       "        text-align: right;\n",
       "    }\n",
       "</style>\n",
       "<table border=\"1\" class=\"dataframe\">\n",
       "  <thead>\n",
       "    <tr style=\"text-align: right;\">\n",
       "      <th></th>\n",
       "      <th>case_month</th>\n",
       "      <th>res_county</th>\n",
       "      <th>age_group</th>\n",
       "      <th>current_status</th>\n",
       "      <th>sex</th>\n",
       "      <th>race</th>\n",
       "      <th>ethnicity</th>\n",
       "    </tr>\n",
       "  </thead>\n",
       "  <tbody>\n",
       "    <tr>\n",
       "      <th>0</th>\n",
       "      <td>2020-12</td>\n",
       "      <td>SONOMA</td>\n",
       "      <td>0 - 17 years</td>\n",
       "      <td>Laboratory-confirmed case</td>\n",
       "      <td>Female</td>\n",
       "      <td>White</td>\n",
       "      <td>Non-Hispanic/Latino</td>\n",
       "    </tr>\n",
       "    <tr>\n",
       "      <th>1</th>\n",
       "      <td>2020-12</td>\n",
       "      <td>SACRAMENTO</td>\n",
       "      <td>18 to 49 years</td>\n",
       "      <td>Laboratory-confirmed case</td>\n",
       "      <td>Male</td>\n",
       "      <td>American Indian/Alaska Native</td>\n",
       "      <td>Hispanic/Latino</td>\n",
       "    </tr>\n",
       "    <tr>\n",
       "      <th>2</th>\n",
       "      <td>2021-01</td>\n",
       "      <td>SANTA CLARA</td>\n",
       "      <td>0 - 17 years</td>\n",
       "      <td>Laboratory-confirmed case</td>\n",
       "      <td>Female</td>\n",
       "      <td>White</td>\n",
       "      <td>Non-Hispanic/Latino</td>\n",
       "    </tr>\n",
       "    <tr>\n",
       "      <th>3</th>\n",
       "      <td>2020-11</td>\n",
       "      <td>SANTA CRUZ</td>\n",
       "      <td>18 to 49 years</td>\n",
       "      <td>Laboratory-confirmed case</td>\n",
       "      <td>Female</td>\n",
       "      <td>White</td>\n",
       "      <td>Non-Hispanic/Latino</td>\n",
       "    </tr>\n",
       "    <tr>\n",
       "      <th>4</th>\n",
       "      <td>2020-11</td>\n",
       "      <td>TEHAMA</td>\n",
       "      <td>18 to 49 years</td>\n",
       "      <td>Laboratory-confirmed case</td>\n",
       "      <td>Female</td>\n",
       "      <td>White</td>\n",
       "      <td>Non-Hispanic/Latino</td>\n",
       "    </tr>\n",
       "  </tbody>\n",
       "</table>\n",
       "</div>"
      ],
      "text/plain": [
       "  case_month   res_county       age_group             current_status     sex  \\\n",
       "0    2020-12       SONOMA    0 - 17 years  Laboratory-confirmed case  Female   \n",
       "1    2020-12   SACRAMENTO  18 to 49 years  Laboratory-confirmed case    Male   \n",
       "2    2021-01  SANTA CLARA    0 - 17 years  Laboratory-confirmed case  Female   \n",
       "3    2020-11   SANTA CRUZ  18 to 49 years  Laboratory-confirmed case  Female   \n",
       "4    2020-11       TEHAMA  18 to 49 years  Laboratory-confirmed case  Female   \n",
       "\n",
       "                            race            ethnicity  \n",
       "0                          White  Non-Hispanic/Latino  \n",
       "1  American Indian/Alaska Native      Hispanic/Latino  \n",
       "2                          White  Non-Hispanic/Latino  \n",
       "3                          White  Non-Hispanic/Latino  \n",
       "4                          White  Non-Hispanic/Latino  "
      ]
     },
     "execution_count": 2,
     "metadata": {},
     "output_type": "execute_result"
    }
   ],
   "source": [
    "#read csv data from the CDC for CA\n",
    "csv_ca_cdc_path = \"./Resources/CA_cases_by_county/cdc_ca_output_data.csv\"\n",
    "ca_covid = pd.read_csv(csv_ca_cdc_path, encoding=\"utf-8\")\n",
    "ca_covid = pd.DataFrame(ca_covid)\n",
    "ca_covid = ca_covid.drop(columns=['res_state'])\n",
    "ca_covid.head()"
   ]
  },
  {
   "cell_type": "code",
   "execution_count": 3,
   "id": "8b8ae6a6",
   "metadata": {},
   "outputs": [],
   "source": [
    "#read in Population Data from the Department of Finance (which the CDC uses)\n",
    "#as well as partial/full vacciantion numbers\n",
    "ca_pop_vac_path = './Resources/CA_county_population_and_vaccination_data.csv'\n",
    "ca_pop_vac = pd.read_csv(ca_pop_vac_path)\n",
    "ca_popvac_df = pd.DataFrame(ca_pop_vac)"
   ]
  },
  {
   "cell_type": "code",
   "execution_count": 4,
   "id": "20c2cfc3",
   "metadata": {},
   "outputs": [
    {
     "name": "stdout",
     "output_type": "stream",
     "text": [
      "51\n"
     ]
    }
   ],
   "source": [
    "#make a list which counties are not included, though this may not be necessary for the final notebook.\n",
    "#it is important to mention in the presentation, however.\n",
    "print(len(ca_covid['res_county'].unique()))\n",
    "\n",
    "cdc_included_counties = ca_covid['res_county'].unique()\n",
    "cdc_included_counties = cdc_included_counties.tolist()\n",
    "\n",
    "counties_list = ['Alameda', 'Alpine', 'Amador' ,'Butte' ,'Calaveras' ,'Colusa' ,'Contra Costa' ,'Del Norte'\n",
    "                 ,'El Dorado' ,'Fresno' ,'Glenn' ,'Humboldt' ,'Imperial' ,'Inyo' ,'Kern' ,'Kings' ,'Lake' ,'Lassen',\n",
    "                 'Los Angeles' ,'Madera' ,'Marin' ,'Mariposa' ,'Mendocino' ,'Merced' ,'Modoc' ,'Mono' ,'Monterey' ,'Napa', \n",
    "                 'Nevada' ,'Orange' ,'Placer' ,'Plumas' ,'Riverside' ,'Sacramento' ,'San Benito' ,'San Bernardino' ,'San Diego' ,\n",
    "                 'San Francisco' ,'San Joaquin' ,'San Luis Obispo' ,'San Mateo' ,'Santa Barbara' ,'Santa Clara' ,'Santa Cruz' ,\n",
    "                 'Shasta' ,'Sierra' ,'Siskiyou' ,'Solano' ,'Sonoma' ,'Stanislaus' ,'Sutter' ,'Tehama' ,'Trinity' ,'Tulare' ,'Tuolumne' ,\n",
    "                 'Ventura' ,'Yolo' ,'Yuba']\n",
    "\n",
    "small_county = []\n",
    "#print(len(counties_list))\n",
    "for county in counties_list:\n",
    "    if county.upper() not in cdc_included_counties:\n",
    "        small_county.append(county)\n",
    "#print(small_county)"
   ]
  },
  {
   "cell_type": "code",
   "execution_count": 5,
   "id": "c3ac7cea",
   "metadata": {
    "scrolled": true
   },
   "outputs": [],
   "source": [
    "#extract only the data for August 2020 on, was originally just for 2021\n",
    "ca_cases_aug20_on = ca_covid.loc[(ca_covid['case_month'] == '2020-08') |(ca_covid['case_month'] == '2020-09') |\n",
    "                            (ca_covid['case_month'] == '2020-10') |(ca_covid['case_month'] == '2020-11') |\n",
    "                             (ca_covid['case_month'] == '2020-12') |\n",
    "                              (ca_covid['case_month'] == '2021-01') | (ca_covid['case_month'] == '2021-02') | \n",
    "                              (ca_covid['case_month'] == '2021-03') | (ca_covid['case_month'] == '2021-04')  \n",
    "                            | (ca_covid['case_month'] == '2021-05') | (ca_covid['case_month'] == '2021-06') \n",
    "                            | (ca_covid['case_month'] == '2021-07') ]                               \n",
    "\n",
    "#ca_cases_2021 = ca_cases_aug20_on.copy()\n",
    "#ca_cases_2021 = ca_cases_2021.loc[(ca_cases_2021['case_month'] == '2020-12') |\n",
    "#                              (ca_cases_2021['case_month'] == '2021-01') | (ca_cases_2021['case_month'] == '2021-02') | \n",
    " #                             (ca_cases_2021['case_month'] == '2021-03') | (ca_cases_2021['case_month'] == '2021-04')  \n",
    "#                            | (ca_cases_2021['case_month'] == '2021-05') | (ca_cases_2021['case_month'] == '2021-06') \n",
    "#                            | (ca_cases_2021['case_month'] == '2021-07') ]  \n",
    "##print(ca_cases_aug20_on.head())\n",
    "#print(ca_cases_2021.head())"
   ]
  },
  {
   "cell_type": "code",
   "execution_count": 6,
   "id": "bc9bbf7b",
   "metadata": {},
   "outputs": [],
   "source": [
    "#write out the modified dataframe\n",
    "ca_cases_aug20_on.head()\n",
    "ca_cases_aug20_on.to_csv('./Resources/CA_cases_by_county/ca_aug2020_on_case_data.csv',\n",
    "                    index=False,header=True)"
   ]
  },
  {
   "cell_type": "code",
   "execution_count": 7,
   "id": "953da6ec",
   "metadata": {},
   "outputs": [
    {
     "name": "stderr",
     "output_type": "stream",
     "text": [
      "<ipython-input-7-00d5cdde5380>:3: SettingWithCopyWarning: \n",
      "A value is trying to be set on a copy of a slice from a DataFrame.\n",
      "Try using .loc[row_indexer,col_indexer] = value instead\n",
      "\n",
      "See the caveats in the documentation: https://pandas.pydata.org/pandas-docs/stable/user_guide/indexing.html#returning-a-view-versus-a-copy\n",
      "  ca_cases_aug20_on['month'] = pd.DatetimeIndex(ca_cases_aug20_on['case_month']).month_name()\n"
     ]
    }
   ],
   "source": [
    "#convert the case_month to month names so that it can merge with Tikaram\n",
    "#use DatetimeIndex so that computer does not time out in for loop\n",
    "ca_cases_aug20_on['month'] = pd.DatetimeIndex(ca_cases_aug20_on['case_month']).month_name()\n",
    "#ca_cases_2021['month'] = pd.DatetimeIndex(ca_cases_aug20_on['case_month']).month_name()"
   ]
  },
  {
   "cell_type": "code",
   "execution_count": 8,
   "id": "1062e240",
   "metadata": {},
   "outputs": [
    {
     "data": {
      "text/html": [
       "<div>\n",
       "<style scoped>\n",
       "    .dataframe tbody tr th:only-of-type {\n",
       "        vertical-align: middle;\n",
       "    }\n",
       "\n",
       "    .dataframe tbody tr th {\n",
       "        vertical-align: top;\n",
       "    }\n",
       "\n",
       "    .dataframe thead th {\n",
       "        text-align: right;\n",
       "    }\n",
       "</style>\n",
       "<table border=\"1\" class=\"dataframe\">\n",
       "  <thead>\n",
       "    <tr style=\"text-align: right;\">\n",
       "      <th></th>\n",
       "      <th>case_month</th>\n",
       "      <th>res_county</th>\n",
       "      <th>age_group</th>\n",
       "      <th>current_status</th>\n",
       "      <th>sex</th>\n",
       "      <th>race</th>\n",
       "      <th>ethnicity</th>\n",
       "      <th>month</th>\n",
       "    </tr>\n",
       "  </thead>\n",
       "  <tbody>\n",
       "    <tr>\n",
       "      <th>0</th>\n",
       "      <td>2020-12</td>\n",
       "      <td>SONOMA</td>\n",
       "      <td>0 - 17 years</td>\n",
       "      <td>Laboratory-confirmed case</td>\n",
       "      <td>Female</td>\n",
       "      <td>White</td>\n",
       "      <td>Non-Hispanic/Latino</td>\n",
       "      <td>December</td>\n",
       "    </tr>\n",
       "    <tr>\n",
       "      <th>1</th>\n",
       "      <td>2020-12</td>\n",
       "      <td>SACRAMENTO</td>\n",
       "      <td>18 to 49 years</td>\n",
       "      <td>Laboratory-confirmed case</td>\n",
       "      <td>Male</td>\n",
       "      <td>American Indian/Alaska Native</td>\n",
       "      <td>Hispanic/Latino</td>\n",
       "      <td>December</td>\n",
       "    </tr>\n",
       "    <tr>\n",
       "      <th>2</th>\n",
       "      <td>2021-01</td>\n",
       "      <td>SANTA CLARA</td>\n",
       "      <td>0 - 17 years</td>\n",
       "      <td>Laboratory-confirmed case</td>\n",
       "      <td>Female</td>\n",
       "      <td>White</td>\n",
       "      <td>Non-Hispanic/Latino</td>\n",
       "      <td>January</td>\n",
       "    </tr>\n",
       "  </tbody>\n",
       "</table>\n",
       "</div>"
      ],
      "text/plain": [
       "  case_month   res_county       age_group             current_status     sex  \\\n",
       "0    2020-12       SONOMA    0 - 17 years  Laboratory-confirmed case  Female   \n",
       "1    2020-12   SACRAMENTO  18 to 49 years  Laboratory-confirmed case    Male   \n",
       "2    2021-01  SANTA CLARA    0 - 17 years  Laboratory-confirmed case  Female   \n",
       "\n",
       "                            race            ethnicity     month  \n",
       "0                          White  Non-Hispanic/Latino  December  \n",
       "1  American Indian/Alaska Native      Hispanic/Latino  December  \n",
       "2                          White  Non-Hispanic/Latino   January  "
      ]
     },
     "execution_count": 8,
     "metadata": {},
     "output_type": "execute_result"
    }
   ],
   "source": [
    "ca_cases_aug20_on.head(3)"
   ]
  },
  {
   "cell_type": "code",
   "execution_count": null,
   "id": "59b3cd77",
   "metadata": {},
   "outputs": [],
   "source": []
  },
  {
   "cell_type": "code",
   "execution_count": 9,
   "id": "430e4148",
   "metadata": {},
   "outputs": [
    {
     "name": "stderr",
     "output_type": "stream",
     "text": [
      "<ipython-input-9-4181f1df87ae>:10: SettingWithCopyWarning: \n",
      "A value is trying to be set on a copy of a slice from a DataFrame.\n",
      "Try using .loc[row_indexer,col_indexer] = value instead\n",
      "\n",
      "See the caveats in the documentation: https://pandas.pydata.org/pandas-docs/stable/user_guide/indexing.html#returning-a-view-versus-a-copy\n",
      "  ca_cases_aug20_on['month'] = ca_cases_aug20_on['month'].astype(month_order)\n"
     ]
    }
   ],
   "source": [
    "#do this again for August 2020 on\n",
    "#the warning message is because Jupyter thinks I want the changes in ca_cases_aug20_on\n",
    "#and ca_cases_2021 linked, though I do not\n",
    "aug_on_month = ca_cases_aug20_on[\"month\"]\n",
    "\n",
    "month_order = CategoricalDtype(['August','September','October','November','December',\n",
    "                                'January', 'February', 'March', 'April',\n",
    "                                'May', 'June', 'July'], ordered=True)\n",
    "\n",
    "ca_cases_aug20_on['month'] = ca_cases_aug20_on['month'].astype(month_order)"
   ]
  },
  {
   "cell_type": "code",
   "execution_count": null,
   "id": "08a493d2",
   "metadata": {},
   "outputs": [],
   "source": []
  },
  {
   "cell_type": "code",
   "execution_count": 25,
   "id": "a7960e33",
   "metadata": {},
   "outputs": [
    {
     "name": "stdout",
     "output_type": "stream",
     "text": [
      "month   res_county\n",
      "August  ALAMEDA       5349\n",
      "        AMADOR          86\n",
      "        BUTTE         1252\n",
      "        CALAVERAS      123\n",
      "        COLUSA          99\n",
      "                      ... \n",
      "July    TULARE         443\n",
      "        TUOLUMNE        85\n",
      "        VENTURA       1202\n",
      "        YOLO           410\n",
      "        YUBA           198\n",
      "Length: 600, dtype: int64\n"
     ]
    }
   ],
   "source": [
    "#this took me a long time to figure out how to do, but it groups by month and county,\n",
    "#while counting the occurences of each case. .size() makes it into a pandas series\n",
    "#instead of a groupby object\n",
    "\n",
    "grouped_by_month = ca_cases_aug20_on.groupby(['month','res_county']).size()\n",
    "print(grouped_by_month)\n",
    "\n",
    "#here I convert the pandas series to a df and label the case counts\n",
    "grouped_by_month_df = grouped_by_month.to_frame(name = 'cases')\n"
   ]
  },
  {
   "cell_type": "code",
   "execution_count": 29,
   "id": "391c0954",
   "metadata": {},
   "outputs": [],
   "source": [
    "#write the grouped/counted df to csv\n",
    "grouped_by_month_df.to_csv('./Resources/CA_cases_by_county/cases_by_county_and_month.csv')"
   ]
  },
  {
   "cell_type": "code",
   "execution_count": 31,
   "id": "fe952a2d",
   "metadata": {},
   "outputs": [
    {
     "data": {
      "text/html": [
       "<div>\n",
       "<style scoped>\n",
       "    .dataframe tbody tr th:only-of-type {\n",
       "        vertical-align: middle;\n",
       "    }\n",
       "\n",
       "    .dataframe tbody tr th {\n",
       "        vertical-align: top;\n",
       "    }\n",
       "\n",
       "    .dataframe thead th {\n",
       "        text-align: right;\n",
       "    }\n",
       "</style>\n",
       "<table border=\"1\" class=\"dataframe\">\n",
       "  <thead>\n",
       "    <tr style=\"text-align: right;\">\n",
       "      <th></th>\n",
       "      <th>case_month</th>\n",
       "      <th>res_county</th>\n",
       "      <th>age_group</th>\n",
       "      <th>current_status</th>\n",
       "      <th>sex</th>\n",
       "      <th>race</th>\n",
       "      <th>ethnicity</th>\n",
       "      <th>month</th>\n",
       "    </tr>\n",
       "  </thead>\n",
       "  <tbody>\n",
       "    <tr>\n",
       "      <th>0</th>\n",
       "      <td>2020-12</td>\n",
       "      <td>SONOMA</td>\n",
       "      <td>0 - 17 years</td>\n",
       "      <td>Laboratory-confirmed case</td>\n",
       "      <td>Female</td>\n",
       "      <td>White</td>\n",
       "      <td>Non-Hispanic/Latino</td>\n",
       "      <td>December</td>\n",
       "    </tr>\n",
       "    <tr>\n",
       "      <th>1</th>\n",
       "      <td>2020-12</td>\n",
       "      <td>SACRAMENTO</td>\n",
       "      <td>18 to 49 years</td>\n",
       "      <td>Laboratory-confirmed case</td>\n",
       "      <td>Male</td>\n",
       "      <td>American Indian/Alaska Native</td>\n",
       "      <td>Hispanic/Latino</td>\n",
       "      <td>December</td>\n",
       "    </tr>\n",
       "    <tr>\n",
       "      <th>2</th>\n",
       "      <td>2021-01</td>\n",
       "      <td>SANTA CLARA</td>\n",
       "      <td>0 - 17 years</td>\n",
       "      <td>Laboratory-confirmed case</td>\n",
       "      <td>Female</td>\n",
       "      <td>White</td>\n",
       "      <td>Non-Hispanic/Latino</td>\n",
       "      <td>January</td>\n",
       "    </tr>\n",
       "  </tbody>\n",
       "</table>\n",
       "</div>"
      ],
      "text/plain": [
       "  case_month   res_county       age_group             current_status     sex  \\\n",
       "0    2020-12       SONOMA    0 - 17 years  Laboratory-confirmed case  Female   \n",
       "1    2020-12   SACRAMENTO  18 to 49 years  Laboratory-confirmed case    Male   \n",
       "2    2021-01  SANTA CLARA    0 - 17 years  Laboratory-confirmed case  Female   \n",
       "\n",
       "                            race            ethnicity     month  \n",
       "0                          White  Non-Hispanic/Latino  December  \n",
       "1  American Indian/Alaska Native      Hispanic/Latino  December  \n",
       "2                          White  Non-Hispanic/Latino   January  "
      ]
     },
     "execution_count": 31,
     "metadata": {},
     "output_type": "execute_result"
    }
   ],
   "source": [
    "#since other code is taking so long, make variables for the case count each month\n",
    "\n",
    "counts = ca_cases_aug20_on['month'].value_counts()\n",
    "\n",
    "dec = counts['December']\n",
    "aug = counts['August']\n",
    "sept = counts['September']\n",
    "octo = counts['October']\n",
    "nov = counts['November']\n",
    "dec = counts['December']\n",
    "jan = counts['January']\n",
    "feb = counts['February']\n",
    "mar = counts['March']\n",
    "apr = counts['April']\n",
    "may = counts['May']\n",
    "june = counts['June']\n",
    "july = counts['July']\n",
    "month_list = counts.tolist()\n",
    "\n",
    "#print(counts)\n",
    "#print(type(counts))\n",
    "#print(month_list)\n",
    "#print(type(month_list))\n",
    "ca_cases_aug20_on.head(3)"
   ]
  },
  {
   "cell_type": "code",
   "execution_count": null,
   "id": "82895060",
   "metadata": {},
   "outputs": [],
   "source": []
  },
  {
   "cell_type": "code",
   "execution_count": 39,
   "id": "949f5613",
   "metadata": {},
   "outputs": [],
   "source": [
    "total_county_cases_df = ca_cases_aug20_on[['month','res_county']]\n",
    "\n",
    "#make dataframes of total monthly cases and total cases by county\n",
    "county_total_cases_df = total_county_cases_df.groupby(by='res_county').size() \n",
    "county_total_cases_df = county_counts_df.to_frame(name = 'cases')\n",
    "\n",
    "total_per_month_df = pd.DataFrame({\n",
    "    \"Months\" : ['December','January', 'February', 'March', 'April',\n",
    "                 'May', 'June', 'July'], \n",
    "    \"Cases\" : [dec,jan,feb,mar,apr,may,june,july]\n",
    "})\n",
    "\n",
    "#print(total_per_month_df)\n",
    "total_per_month_df.to_csv('./Resources/CA_cases_by_county/total_monthly_cases.csv')\n",
    "county_total_cases_df.to_csv('./Resources/CA_cases_by_county/total_county_cases.csv')"
   ]
  },
  {
   "cell_type": "code",
   "execution_count": null,
   "id": "e782389d",
   "metadata": {},
   "outputs": [],
   "source": [
    "#get the value counts for demographics and case status, make a list of them,\n",
    "#and then make a dataframe with all that info\n",
    "\n",
    "#print(ca_covid.head(70))\n",
    "age_counts = ca_cases_aug20_on['age_group'].value_counts()\n",
    "#print(age_counts)\n",
    "case_status_counts = ca_cases_aug20_on['current_status'].value_counts()\n",
    "#print(case_status_counts)\n",
    "sex_counts = ca_cases_aug20_on['sex'].value_counts()\n",
    "#print(sex_counts)\n",
    "race_counts = ca_cases_aug20_on['race'].value_counts()\n",
    "#print(race_counts)\n",
    "ethnicity_counts = ca_cases_aug20_on['ethnicity'].value_counts()\n",
    "#print(ethnicity_counts)\n",
    "county_counts = ca_cases_aug20_on['res_county'].value_counts()\n"
   ]
  },
  {
   "cell_type": "code",
   "execution_count": null,
   "id": "12f08734",
   "metadata": {},
   "outputs": [],
   "source": []
  },
  {
   "cell_type": "code",
   "execution_count": null,
   "id": "d1bac815",
   "metadata": {},
   "outputs": [],
   "source": [
    "#show how many cases there are per month\n",
    "months_strings = ['August','September','October','November','December','January'\n",
    "                 ,'February', 'March', 'April', 'May','June','July']\n",
    "x_axis = months_strings\n",
    "y_axis = month_list\n",
    "\n",
    "plt.xlabel = (\"Month\")\n",
    "plt.ylabel = ('Case Count')\n",
    "plt.title = ('2021 Cases by Month')\n",
    "\n",
    "\n",
    "cases_bar_graph = plt.bar(x_axis,y_axis,color = 'b')\n",
    "graph = plt.gcf()\n",
    "graph.set_size_inches(14,10)\n",
    "\n",
    "#plt.savefig('./Resources/CA_cases_by_county/total_cases_by_month.png')\n",
    "\n",
    "\n"
   ]
  },
  {
   "cell_type": "code",
   "execution_count": null,
   "id": "508be9ad",
   "metadata": {},
   "outputs": [],
   "source": [
    "#months_grouped.reset_index().to_csv('./Resources/CA_cases_by_county/month_grouped_test.csv')"
   ]
  },
  {
   "cell_type": "code",
   "execution_count": null,
   "id": "cdc1e547",
   "metadata": {},
   "outputs": [],
   "source": []
  },
  {
   "cell_type": "code",
   "execution_count": null,
   "id": "00ff4c3b",
   "metadata": {},
   "outputs": [],
   "source": [
    "# make smaller dataframes for each demographic with county, case month, current_status,\n",
    "# and demographic in the individual dataframes\n",
    "\n",
    "age_df = ca_covid_2021[['age_group','month', 'res_county', 'current_status']]\n",
    "\n",
    "#make a smaller dataframe so summing doesn't take as long\n",
    "\n",
    "age_month_df = pd.DataFrame(age_df, columns=['age_group','month']\n",
    "age_group_cases_monthly = age_df.groupby(age_df['month']).sum()"
   ]
  },
  {
   "cell_type": "code",
   "execution_count": null,
   "id": "485c8eb2",
   "metadata": {},
   "outputs": [],
   "source": [
    "#make the age bar plot\n",
    "monthly_age_totals_plot = summed_months.plot.bar(color = 'b')\n",
    "plt.xlabel = (\"Month\")\n",
    "plt.ylabel = ('Case Count by Age')\n",
    "plt.title = ('2021 Age Group Cases by Month')\n",
    "plt.savefig('./Resources/CA_cases_by_county/total_cases_by_month.png')\n",
    "plt.show()"
   ]
  },
  {
   "cell_type": "code",
   "execution_count": null,
   "id": "dffd7c0f",
   "metadata": {},
   "outputs": [],
   "source": []
  },
  {
   "cell_type": "code",
   "execution_count": null,
   "id": "88dcf8e5",
   "metadata": {},
   "outputs": [],
   "source": [
    "sex_df = ca_covid_2021[['sex','month', 'res_county', 'current_status']]\n",
    "sex_df.head(3)\n"
   ]
  },
  {
   "cell_type": "code",
   "execution_count": null,
   "id": "09efb9bb",
   "metadata": {},
   "outputs": [],
   "source": [
    "race_df = ca_covid_2021[['race','month', 'res_county', 'current_status']]\n",
    "race_df.head(3)"
   ]
  },
  {
   "cell_type": "code",
   "execution_count": null,
   "id": "397a500c",
   "metadata": {},
   "outputs": [],
   "source": [
    "ethnicity_df = ca_covid_2021[['ethnicity','month', 'res_county', 'current_status']]\n",
    "ethnicity_df.head(3)\n",
    "ethnicity_df['ethnicity'].value_counts()"
   ]
  },
  {
   "cell_type": "code",
   "execution_count": null,
   "id": "ba7d57a7",
   "metadata": {},
   "outputs": [],
   "source": []
  },
  {
   "cell_type": "code",
   "execution_count": null,
   "id": "86f138ef",
   "metadata": {},
   "outputs": [],
   "source": []
  }
 ],
 "metadata": {
  "kernelspec": {
   "display_name": "Python 3",
   "language": "python",
   "name": "python3"
  },
  "language_info": {
   "codemirror_mode": {
    "name": "ipython",
    "version": 3
   },
   "file_extension": ".py",
   "mimetype": "text/x-python",
   "name": "python",
   "nbconvert_exporter": "python",
   "pygments_lexer": "ipython3",
   "version": "3.8.8"
  }
 },
 "nbformat": 4,
 "nbformat_minor": 5
}
