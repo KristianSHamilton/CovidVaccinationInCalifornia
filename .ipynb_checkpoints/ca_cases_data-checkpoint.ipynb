{
 "cells": [
  {
   "cell_type": "code",
   "execution_count": 1,
   "id": "a54978f6",
   "metadata": {
    "scrolled": false
   },
   "outputs": [],
   "source": [
    "#import modules\n",
    "import pandas as pd\n",
    "import json\n",
    "import matplotlib.pyplot as plt\n",
    "from matplotlib.pyplot import figure\n",
    "import numpy as np\n",
    "import os\n",
    "import csv\n",
    "from pandas.api.types import CategoricalDtype\n",
    "low_memory = False"
   ]
  },
  {
   "cell_type": "code",
   "execution_count": 4,
   "id": "e32b42f9",
   "metadata": {
    "scrolled": false
   },
   "outputs": [],
   "source": [
    "#read csv data from the CDC for CA\n",
    "#I removed the cdc_ca_output_data.csv from the repo because it is too large to push to github\n",
    "#it is now stored locally on my computer, which is why running this cell leads to an error message\n",
    "csv_ca_cdc_path = \"./Resources/CA_cases_by_county/cdc_ca_output_data.csv\"\n",
    "ca_covid = pd.read_csv(csv_ca_cdc_path, encoding=\"utf-8\")\n",
    "ca_covid = pd.DataFrame(ca_covid)\n",
    "ca_covid = ca_covid.drop(columns=['res_state'])\n",
    "ca_covid.head()"
   ]
  },
  {
   "cell_type": "code",
   "execution_count": null,
   "id": "710b49d8",
   "metadata": {
    "scrolled": false
   },
   "outputs": [],
   "source": [
    "#fill all null resident county values with 'small county' since the CDC does not include\n",
    "#counties with tiny populations.\n",
    "\n",
    "ca_covid['res_county'].fillna(\"SMALL COUNTY\", inplace = True)\n",
    "ca_covid['res_county'].unique()"
   ]
  },
  {
   "cell_type": "code",
   "execution_count": null,
   "id": "8b8ae6a6",
   "metadata": {
    "scrolled": false
   },
   "outputs": [],
   "source": [
    "#read in Population Data from the Department of Finance (which the CDC uses)\n",
    "#as well as partial/full vacciantion numbers\n",
    "ca_pop_vac_path = './Resources/CA_county_population_and_vaccination_data.csv'\n",
    "ca_pop_vac = pd.read_csv(ca_pop_vac_path)\n",
    "ca_popvac_df = pd.DataFrame(ca_pop_vac)\n",
    "ca_popvac_df.head()"
   ]
  },
  {
   "cell_type": "code",
   "execution_count": null,
   "id": "20c2cfc3",
   "metadata": {
    "scrolled": false
   },
   "outputs": [],
   "source": [
    "#make a list which counties are not included, though this may not be necessary for the final notebook.\n",
    "#it is important to mention in the presentation, however.\n",
    "print(len(ca_covid['res_county'].unique()))\n",
    "\n",
    "cdc_included_counties = ca_covid['res_county'].unique()\n",
    "cdc_included_counties = cdc_included_counties.tolist()\n",
    "\n",
    "counties_list = ['Alameda', 'Alpine', 'Amador' ,'Butte' ,'Calaveras' ,'Colusa' ,'Contra Costa' ,'Del Norte'\n",
    "                 ,'El Dorado' ,'Fresno' ,'Glenn' ,'Humboldt' ,'Imperial' ,'Inyo' ,'Kern' ,'Kings' ,'Lake' ,'Lassen',\n",
    "                 'Los Angeles' ,'Madera' ,'Marin' ,'Mariposa' ,'Mendocino' ,'Merced' ,'Modoc' ,'Mono' ,'Monterey' ,'Napa', \n",
    "                 'Nevada' ,'Orange' ,'Placer' ,'Plumas' ,'Riverside' ,'Sacramento' ,'San Benito' ,'San Bernardino' ,'San Diego' ,\n",
    "                 'San Francisco' ,'San Joaquin' ,'San Luis Obispo' ,'San Mateo' ,'Santa Barbara' ,'Santa Clara' ,'Santa Cruz' ,\n",
    "                 'Shasta' ,'Sierra' ,'Siskiyou' ,'Solano' ,'Sonoma' ,'Stanislaus' ,'Sutter' ,'Tehama' ,'Trinity' ,'Tulare' ,'Tuolumne' ,\n",
    "                 'Ventura' ,'Yolo' ,'Yuba']\n",
    "\n",
    "small_county = []\n",
    "#print(len(counties_list))\n",
    "for county in counties_list:\n",
    "    if county.upper() not in cdc_included_counties:\n",
    "        small_county.append(county)\n",
    "#print(small_county)"
   ]
  },
  {
   "cell_type": "code",
   "execution_count": null,
   "id": "c3ac7cea",
   "metadata": {
    "scrolled": true
   },
   "outputs": [],
   "source": [
    "#extract only the data for August 2020 on, was originally just for 2021\n",
    "ca_cases_aug20_on = ca_covid.loc[(ca_covid['case_month'] == '2020-08') |(ca_covid['case_month'] == '2020-09') |\n",
    "                            (ca_covid['case_month'] == '2020-10') |(ca_covid['case_month'] == '2020-11') |\n",
    "                             (ca_covid['case_month'] == '2020-12') |\n",
    "                              (ca_covid['case_month'] == '2021-01') | (ca_covid['case_month'] == '2021-02') | \n",
    "                              (ca_covid['case_month'] == '2021-03') | (ca_covid['case_month'] == '2021-04')  \n",
    "                            | (ca_covid['case_month'] == '2021-05') | (ca_covid['case_month'] == '2021-06') \n",
    "                            | (ca_covid['case_month'] == '2021-07') ]                               \n",
    "\n",
    "#extract just Dec 2020 on for group members to potentially use\n",
    "ca_cases_2021 = ca_cases_aug20_on.copy()\n",
    "ca_cases_2021 = ca_cases_2021.loc[(ca_cases_2021['case_month'] == '2020-12') |\n",
    "                             (ca_cases_2021['case_month'] == '2021-01') | (ca_cases_2021['case_month'] == '2021-02') | \n",
    "                              (ca_cases_2021['case_month'] == '2021-03') | (ca_cases_2021['case_month'] == '2021-04')  \n",
    "                            | (ca_cases_2021['case_month'] == '2021-05') | (ca_cases_2021['case_month'] == '2021-06') \n",
    "                           | (ca_cases_2021['case_month'] == '2021-07') ]  \n",
    "##print(ca_cases_aug20_on.head())\n",
    "#print(ca_cases_2021.head())"
   ]
  },
  {
   "cell_type": "code",
   "execution_count": null,
   "id": "bc9bbf7b",
   "metadata": {
    "scrolled": false
   },
   "outputs": [],
   "source": [
    "#write out the modified dataframe\n",
    "ca_cases_aug20_on.head()\n",
    "ca_cases_aug20_on.to_csv('./Resources/CA_cases_by_county/ca_aug2020_on_case_data.csv',\n",
    "                    index=False,header=True)"
   ]
  },
  {
   "cell_type": "code",
   "execution_count": null,
   "id": "953da6ec",
   "metadata": {
    "scrolled": false
   },
   "outputs": [],
   "source": [
    "#convert the case_month to month names so that it can merge with Tikaram\n",
    "#use DatetimeIndex so that computer does not time out in for loop\n",
    "ca_cases_aug20_on['month'] = pd.DatetimeIndex(ca_cases_aug20_on['case_month']).month_name()\n",
    "ca_cases_2021['month'] = pd.DatetimeIndex(ca_cases_2021['case_month']).month_name()"
   ]
  },
  {
   "cell_type": "code",
   "execution_count": null,
   "id": "1062e240",
   "metadata": {
    "scrolled": false
   },
   "outputs": [],
   "source": [
    "ca_cases_aug20_on.head(3)"
   ]
  },
  {
   "cell_type": "code",
   "execution_count": null,
   "id": "59b3cd77",
   "metadata": {
    "scrolled": false
   },
   "outputs": [],
   "source": []
  },
  {
   "cell_type": "code",
   "execution_count": null,
   "id": "430e4148",
   "metadata": {
    "scrolled": false
   },
   "outputs": [],
   "source": [
    "#do this again for August 2020 on\n",
    "#the warning message is because Jupyter thinks I want the changes in ca_cases_aug20_on\n",
    "#and ca_cases_2021 linked, though I do not\n",
    "aug_on_month = ca_cases_aug20_on[\"month\"]\n",
    "\n",
    "month_order = CategoricalDtype(['August','September','October','November','December',\n",
    "                                'January', 'February', 'March', 'April',\n",
    "                                'May', 'June', 'July'], ordered=True)\n",
    "\n",
    "ca_cases_aug20_on['month'] = ca_cases_aug20_on['month'].astype(month_order)"
   ]
  },
  {
   "cell_type": "code",
   "execution_count": null,
   "id": "08a493d2",
   "metadata": {
    "scrolled": false
   },
   "outputs": [],
   "source": [
    "#this will create and write out a df just for the months Tikaram can use.\n",
    "grouped_by_2021_month = ca_cases_2021.groupby(['month','res_county']).size()\n",
    "\n",
    "\n",
    "#here I convert the pandas series to a df and label the case counts\n",
    "grouped_by_2021_month_df = grouped_by_2021_month.to_frame(name = 'cases')\n",
    "grouped_by_2021_month_df.to_csv('./Resources/CA_cases_by_county/cases_by_county_and_month_2021.csv')"
   ]
  },
  {
   "cell_type": "code",
   "execution_count": null,
   "id": "a7960e33",
   "metadata": {
    "scrolled": false
   },
   "outputs": [],
   "source": [
    "#this took me a long time to figure out how to do, but it groups by month and county,\n",
    "#while counting the occurences of each case. .size() makes it into a pandas series\n",
    "#instead of a groupby object\n",
    "\n",
    "grouped_by_month = ca_cases_aug20_on.groupby(['month','res_county']).size()\n",
    "print(grouped_by_month)\n",
    "\n",
    "#here I convert the pandas series to a df and label the case counts\n",
    "grouped_by_month_df = grouped_by_month.to_frame(name = 'cases')\n"
   ]
  },
  {
   "cell_type": "code",
   "execution_count": null,
   "id": "391c0954",
   "metadata": {
    "scrolled": false
   },
   "outputs": [],
   "source": [
    "#write the grouped/counted df to csv\n",
    "grouped_by_month_df.to_csv('./Resources/CA_cases_by_county/cases_by_county_and_month.csv')\n",
    "grouped_by_month_df.plot(kind='area')"
   ]
  },
  {
   "cell_type": "code",
   "execution_count": null,
   "id": "fe952a2d",
   "metadata": {
    "scrolled": false
   },
   "outputs": [],
   "source": [
    "#since since using groupby followed by .sum() \n",
    "#is taking so long, make variables for the case count each month\n",
    "\n",
    "counts = ca_cases_aug20_on['month'].value_counts()\n",
    "\n",
    "aug = counts['August']\n",
    "sept = counts['September']\n",
    "octo = counts['October']\n",
    "nov = counts['November']\n",
    "dec = counts['December']\n",
    "jan = counts['January']\n",
    "feb = counts['February']\n",
    "mar = counts['March']\n",
    "apr = counts['April']\n",
    "may = counts['May']\n",
    "june = counts['June']\n",
    "july = counts['July']\n",
    "month_list = counts.tolist()\n",
    "ordered_month_list = [151345,100714,123809,415153,1216142,873586,181288,82660,65037,37661,34899,71623]\n",
    "#print(month_list)\n",
    "print(counts)\n",
    "#ca_cases_aug20_on.head(3)"
   ]
  },
  {
   "cell_type": "code",
   "execution_count": null,
   "id": "82895060",
   "metadata": {
    "scrolled": false
   },
   "outputs": [],
   "source": []
  },
  {
   "cell_type": "code",
   "execution_count": null,
   "id": "949f5613",
   "metadata": {
    "scrolled": false
   },
   "outputs": [],
   "source": [
    "total_county_cases_df = ca_cases_aug20_on[['month','res_county']]\n",
    "\n",
    "#make dataframes of total monthly cases and total cases by county\n",
    "#for future reference, groupby coupled with .size() is a faster way\n",
    "#to get the case count than .sum() it also makes it easy to convert a groupby object to df\n",
    "county_total_cases_df = total_county_cases_df.groupby(by='res_county').size() \n",
    "county_total_cases_df = county_total_cases_df.to_frame(name = 'cases')\n",
    "\n",
    "total_per_month_df = pd.DataFrame({\n",
    "    \"Months\" : ['December','January', 'February', 'March', 'April',\n",
    "                 'May', 'June', 'July'], \n",
    "    \"Cases\" : [dec,jan,feb,mar,apr,may,june,july]\n",
    "})\n",
    "\n",
    "#print(total_per_month_df)\n",
    "total_per_month_df.to_csv('./Resources/CA_cases_by_county/total_monthly_cases.csv', index = False)\n",
    "county_total_cases_df.to_csv('./Resources/CA_cases_by_county/total_county_cases.csv')"
   ]
  },
  {
   "cell_type": "code",
   "execution_count": null,
   "id": "e782389d",
   "metadata": {
    "scrolled": false
   },
   "outputs": [],
   "source": [
    "\n",
    "age_counts = ca_cases_aug20_on['age_group'].value_counts()\n",
    "print(age_counts)\n",
    "case_status_counts = ca_cases_aug20_on['current_status'].value_counts()\n",
    "#print(case_status_counts)\n",
    "sex_counts = ca_cases_aug20_on['sex'].value_counts()\n",
    "#print(sex_counts)\n",
    "race_counts = ca_cases_aug20_on['race'].value_counts()\n",
    "#print(race_counts)\n",
    "ethnicity_counts = ca_cases_aug20_on['ethnicity'].value_counts()\n",
    "#print(ethnicity_counts)\n",
    "#county_counts = ca_cases_aug20_on['res_county'].value_counts()\n"
   ]
  },
  {
   "cell_type": "code",
   "execution_count": null,
   "id": "12f08734",
   "metadata": {
    "scrolled": false
   },
   "outputs": [],
   "source": []
  },
  {
   "cell_type": "code",
   "execution_count": null,
   "id": "d1bac815",
   "metadata": {
    "scrolled": false
   },
   "outputs": [],
   "source": [
    "#for some reason this cell needs to be run manually, the graph will not appear\n",
    "#by restarting and running all automatically and needs to be run twice for the\n",
    "#x-axis tick label size to be adjusted\n",
    "\n",
    "%matplotlib notebook\n",
    "import matplotlib.pyplot as plt\n",
    "#show how many cases there are per month\n",
    "months_strings = ['August','September','October','November','December','January'\n",
    "                 ,'February', 'March', 'April', 'May','June','July']\n",
    "x_axis = months_strings\n",
    "y_axis = ordered_month_list\n",
    "#print(month_list)\n",
    "\n",
    "plt.figure(figsize=(8.5,5))\n",
    "graph = plt.bar(x_axis,y_axis)\n",
    "#graph = plt.gcf()\n",
    "plt.xlabel(\"Months\", fontsize=12)\n",
    "plt.ylabel(\"Case Numbers in Millions\",fontsize=12)\n",
    "plt.title('Cases by Month')\n",
    "plt.rc('xtick', labelsize = 7)\n",
    "plt.tight_layout\n",
    "#graph = plt.set_size_inches(14,10)\n",
    "plt.show()\n",
    "plt.savefig('./Resources/CA_cases_by_county/Images/total_cases_by_month.png')\n",
    "\n",
    "\n"
   ]
  },
  {
   "cell_type": "code",
   "execution_count": null,
   "id": "cdc1e547",
   "metadata": {
    "scrolled": false
   },
   "outputs": [],
   "source": []
  },
  {
   "cell_type": "code",
   "execution_count": null,
   "id": "485c8eb2",
   "metadata": {
    "scrolled": false
   },
   "outputs": [],
   "source": [
    "%matplotlib notebook\n",
    "%matplotlib inline\n",
    "plt.rcParams['figure.figsize'] = [15, 15]\n",
    "age_group_cases_monthly_df.plot(kind='bar')\n",
    "plt.figure(figsize=(20,5))\n",
    "plt.show()\n",
    "#plt.savefig('./Resources/CA_cases_by_county/Images/age_group_month_chart.png')\n",
    "\n"
   ]
  },
  {
   "cell_type": "code",
   "execution_count": null,
   "id": "f662c3bb",
   "metadata": {
    "scrolled": false
   },
   "outputs": [],
   "source": [
    "#do pie chart for age\n",
    "%matplotlib notebook\n",
    "import matplotlib.pyplot as plt\n",
    "labels = ['0-17 years', '18-49 years','50-64 years','65+ years'] \n",
    "age_cases = [455570,1916866,629910,342849] \n",
    "colors = ['red','blue','yellow','green']\n",
    "plt.title('Percent of CA COVID Cases by Age Group')\n",
    "plt.pie(age_cases, labels=labels, colors=colors,  autopct=\"%1.1f%%\", shadow = True)\n",
    "plt.show()\n",
    "\n",
    "plt.savefig('./Resources/CA_cases_by_county/Images/pie_chart_ages.png')"
   ]
  },
  {
   "cell_type": "code",
   "execution_count": null,
   "id": "99b2d698",
   "metadata": {
    "scrolled": false
   },
   "outputs": [],
   "source": [
    "#make pie chart and dataframe for sex and cases\n",
    "%matplotlib notebook\n",
    "sex_df = ca_cases_aug20_on[['sex','month', 'res_county']]\n",
    "sex_df.head(3)\n",
    "labels = ['Female','Male','Unknown']\n",
    "sex_cases = [1696862,1596324,47378]\n",
    "colors = ['red','blue','yellow']\n",
    "plt.pie(sex_cases,labels=labels,colors=colors,shadow=True,autopct=\"%1.1f%%\")\n",
    "plt.title('Percent of CA COVID Cases by Sex')\n",
    "plt.savefig('./Resources/CA_cases_by_county/Images/pie_chart_sex.png')\n",
    "#sex_counts = ca_cases_aug20_on['sex'].value_counts()\n",
    "#print(sex_counts)\n"
   ]
  },
  {
   "cell_type": "code",
   "execution_count": null,
   "id": "dffd7c0f",
   "metadata": {
    "scrolled": false
   },
   "outputs": [],
   "source": []
  },
  {
   "cell_type": "code",
   "execution_count": null,
   "id": "88dcf8e5",
   "metadata": {
    "scrolled": false
   },
   "outputs": [],
   "source": [
    "\n"
   ]
  },
  {
   "cell_type": "code",
   "execution_count": null,
   "id": "09efb9bb",
   "metadata": {
    "scrolled": false
   },
   "outputs": [],
   "source": [
    "#charts for known race/ethnicity and cases info. Not including unknown/null values.\n",
    "#ethnicity is only Hispanic/non-Hispanic so I am including it here.\n",
    "%matplotlib notebook\n",
    "%matplotlib inline\n",
    "plt.rcParams['figure.figsize'] = [15, 15]\n",
    "\n",
    "race_df = ca_cases_aug20_on[['race','month', 'res_county']]\n",
    "race_df.head(3)\n",
    "labels = ['Native Hawaiian/Other Pacific Islander','White', 'Multiple/Other', 'Asian', 'Black', 'American Indian/Alaska Native', \n",
    "           'Hispanic/Latino']\n",
    "race_ethnicity_cases = [12476,831768,278682,161342,112558,13803,488283]\n",
    "plt.figure(figsize=(15,5))\n",
    "plt.bar(labels,race_ethnicity_cases)\n",
    "plt.tight_layout()\n",
    "plt.xlabel('Race/Ethnicity')\n",
    "plt.ylabel('Total Cases 08/20-07/21')\n",
    "plt.title('CA Case Totals by Race/Ethnicity 08/20-07/2021')\n",
    "plt.rc('xtick', labelsize = 10)\n",
    "\n",
    "#race_counts = ca_cases_aug20_on['race'].value_counts()\n",
    "#print(race_counts)\n",
    "#ethnicity_counts = ca_cases_aug20_on['ethnicity'].value_counts()\n",
    "#print(ethnicity_counts)\n",
    "plt.savefig('./Resources/CA_cases_by_county/Images/bar_chart_race_ethnicity.png')\n",
    "plt.show()"
   ]
  },
  {
   "cell_type": "code",
   "execution_count": null,
   "id": "397a500c",
   "metadata": {
    "scrolled": false
   },
   "outputs": [],
   "source": []
  },
  {
   "cell_type": "code",
   "execution_count": null,
   "id": "ba7d57a7",
   "metadata": {
    "scrolled": false
   },
   "outputs": [],
   "source": [
    "#read in vaccine data, deaths data cleaned in my 'ca_covid_deaths_data' notebook\n",
    "#and the 'cases_grouped_by_county_and_month.csv' (which is actually the grouped_by_month_df)\n"
   ]
  },
  {
   "cell_type": "code",
   "execution_count": null,
   "id": "86f138ef",
   "metadata": {
    "scrolled": false
   },
   "outputs": [],
   "source": []
  }
 ],
 "metadata": {
  "kernelspec": {
   "display_name": "Python 3",
   "language": "python",
   "name": "python3"
  },
  "language_info": {
   "codemirror_mode": {
    "name": "ipython",
    "version": 3
   },
   "file_extension": ".py",
   "mimetype": "text/x-python",
   "name": "python",
   "nbconvert_exporter": "python",
   "pygments_lexer": "ipython3",
   "version": "3.8.8"
  }
 },
 "nbformat": 4,
 "nbformat_minor": 5
}
