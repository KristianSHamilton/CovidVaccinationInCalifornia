{
 "cells": [
  {
   "cell_type": "code",
   "execution_count": 1,
   "id": "cb8ef765",
   "metadata": {},
   "outputs": [],
   "source": [
    "# Dependencies and Setup\n",
    "import os\n",
    "import csv\n",
    "import matplotlib.pyplot as plt\n",
    "import pandas as pd\n",
    "import numpy as np\n",
    "import requests\n",
    "import gmaps\n",
    "import scipy.stats as sts\n",
    "from scipy.stats import linregress\n",
    "\n",
    "# from sodapy import Socrata\n",
    "low_memory = False\n",
    "from pandas.api.types import CategoricalDtype\n"
   ]
  },
  {
   "cell_type": "code",
   "execution_count": 2,
   "id": "e8d2455b",
   "metadata": {},
   "outputs": [
    {
     "ename": "FileNotFoundError",
     "evalue": "[Errno 2] No such file or directory: './statewide-covid-19-vaccines-administered-by-county.csv'",
     "output_type": "error",
     "traceback": [
      "\u001b[1;31m---------------------------------------------------------------------------\u001b[0m",
      "\u001b[1;31mFileNotFoundError\u001b[0m                         Traceback (most recent call last)",
      "\u001b[1;32m<ipython-input-2-1a194fb7fed8>\u001b[0m in \u001b[0;36m<module>\u001b[1;34m\u001b[0m\n\u001b[0;32m      1\u001b[0m \u001b[1;31m# State wide Covid-19 vaccines administered by county\u001b[0m\u001b[1;33m\u001b[0m\u001b[1;33m\u001b[0m\u001b[1;33m\u001b[0m\u001b[0m\n\u001b[1;32m----> 2\u001b[1;33m \u001b[0mcsv_data\u001b[0m \u001b[1;33m=\u001b[0m \u001b[0mpd\u001b[0m\u001b[1;33m.\u001b[0m\u001b[0mread_csv\u001b[0m\u001b[1;33m(\u001b[0m\u001b[1;34m\"./statewide-covid-19-vaccines-administered-by-county.csv\"\u001b[0m\u001b[1;33m)\u001b[0m\u001b[1;33m\u001b[0m\u001b[1;33m\u001b[0m\u001b[0m\n\u001b[0m\u001b[0;32m      3\u001b[0m \u001b[0mca_vaccin_data_all\u001b[0m \u001b[1;33m=\u001b[0m \u001b[0mcsv_data\u001b[0m\u001b[1;33m.\u001b[0m\u001b[0mquery\u001b[0m\u001b[1;33m(\u001b[0m\u001b[1;34m'county ==\"All CA Counties\"'\u001b[0m\u001b[1;33m)\u001b[0m\u001b[1;33m\u001b[0m\u001b[1;33m\u001b[0m\u001b[0m\n\u001b[0;32m      4\u001b[0m \u001b[1;33m\u001b[0m\u001b[0m\n\u001b[0;32m      5\u001b[0m \u001b[1;31m# Creating a dataframe with selected columns\u001b[0m\u001b[1;33m\u001b[0m\u001b[1;33m\u001b[0m\u001b[1;33m\u001b[0m\u001b[0m\n",
      "\u001b[1;32m~\\anaconda3\\lib\\site-packages\\pandas\\io\\parsers.py\u001b[0m in \u001b[0;36mread_csv\u001b[1;34m(filepath_or_buffer, sep, delimiter, header, names, index_col, usecols, squeeze, prefix, mangle_dupe_cols, dtype, engine, converters, true_values, false_values, skipinitialspace, skiprows, skipfooter, nrows, na_values, keep_default_na, na_filter, verbose, skip_blank_lines, parse_dates, infer_datetime_format, keep_date_col, date_parser, dayfirst, cache_dates, iterator, chunksize, compression, thousands, decimal, lineterminator, quotechar, quoting, doublequote, escapechar, comment, encoding, dialect, error_bad_lines, warn_bad_lines, delim_whitespace, low_memory, memory_map, float_precision, storage_options)\u001b[0m\n\u001b[0;32m    608\u001b[0m     \u001b[0mkwds\u001b[0m\u001b[1;33m.\u001b[0m\u001b[0mupdate\u001b[0m\u001b[1;33m(\u001b[0m\u001b[0mkwds_defaults\u001b[0m\u001b[1;33m)\u001b[0m\u001b[1;33m\u001b[0m\u001b[1;33m\u001b[0m\u001b[0m\n\u001b[0;32m    609\u001b[0m \u001b[1;33m\u001b[0m\u001b[0m\n\u001b[1;32m--> 610\u001b[1;33m     \u001b[1;32mreturn\u001b[0m \u001b[0m_read\u001b[0m\u001b[1;33m(\u001b[0m\u001b[0mfilepath_or_buffer\u001b[0m\u001b[1;33m,\u001b[0m \u001b[0mkwds\u001b[0m\u001b[1;33m)\u001b[0m\u001b[1;33m\u001b[0m\u001b[1;33m\u001b[0m\u001b[0m\n\u001b[0m\u001b[0;32m    611\u001b[0m \u001b[1;33m\u001b[0m\u001b[0m\n\u001b[0;32m    612\u001b[0m \u001b[1;33m\u001b[0m\u001b[0m\n",
      "\u001b[1;32m~\\anaconda3\\lib\\site-packages\\pandas\\io\\parsers.py\u001b[0m in \u001b[0;36m_read\u001b[1;34m(filepath_or_buffer, kwds)\u001b[0m\n\u001b[0;32m    460\u001b[0m \u001b[1;33m\u001b[0m\u001b[0m\n\u001b[0;32m    461\u001b[0m     \u001b[1;31m# Create the parser.\u001b[0m\u001b[1;33m\u001b[0m\u001b[1;33m\u001b[0m\u001b[1;33m\u001b[0m\u001b[0m\n\u001b[1;32m--> 462\u001b[1;33m     \u001b[0mparser\u001b[0m \u001b[1;33m=\u001b[0m \u001b[0mTextFileReader\u001b[0m\u001b[1;33m(\u001b[0m\u001b[0mfilepath_or_buffer\u001b[0m\u001b[1;33m,\u001b[0m \u001b[1;33m**\u001b[0m\u001b[0mkwds\u001b[0m\u001b[1;33m)\u001b[0m\u001b[1;33m\u001b[0m\u001b[1;33m\u001b[0m\u001b[0m\n\u001b[0m\u001b[0;32m    463\u001b[0m \u001b[1;33m\u001b[0m\u001b[0m\n\u001b[0;32m    464\u001b[0m     \u001b[1;32mif\u001b[0m \u001b[0mchunksize\u001b[0m \u001b[1;32mor\u001b[0m \u001b[0miterator\u001b[0m\u001b[1;33m:\u001b[0m\u001b[1;33m\u001b[0m\u001b[1;33m\u001b[0m\u001b[0m\n",
      "\u001b[1;32m~\\anaconda3\\lib\\site-packages\\pandas\\io\\parsers.py\u001b[0m in \u001b[0;36m__init__\u001b[1;34m(self, f, engine, **kwds)\u001b[0m\n\u001b[0;32m    817\u001b[0m             \u001b[0mself\u001b[0m\u001b[1;33m.\u001b[0m\u001b[0moptions\u001b[0m\u001b[1;33m[\u001b[0m\u001b[1;34m\"has_index_names\"\u001b[0m\u001b[1;33m]\u001b[0m \u001b[1;33m=\u001b[0m \u001b[0mkwds\u001b[0m\u001b[1;33m[\u001b[0m\u001b[1;34m\"has_index_names\"\u001b[0m\u001b[1;33m]\u001b[0m\u001b[1;33m\u001b[0m\u001b[1;33m\u001b[0m\u001b[0m\n\u001b[0;32m    818\u001b[0m \u001b[1;33m\u001b[0m\u001b[0m\n\u001b[1;32m--> 819\u001b[1;33m         \u001b[0mself\u001b[0m\u001b[1;33m.\u001b[0m\u001b[0m_engine\u001b[0m \u001b[1;33m=\u001b[0m \u001b[0mself\u001b[0m\u001b[1;33m.\u001b[0m\u001b[0m_make_engine\u001b[0m\u001b[1;33m(\u001b[0m\u001b[0mself\u001b[0m\u001b[1;33m.\u001b[0m\u001b[0mengine\u001b[0m\u001b[1;33m)\u001b[0m\u001b[1;33m\u001b[0m\u001b[1;33m\u001b[0m\u001b[0m\n\u001b[0m\u001b[0;32m    820\u001b[0m \u001b[1;33m\u001b[0m\u001b[0m\n\u001b[0;32m    821\u001b[0m     \u001b[1;32mdef\u001b[0m \u001b[0mclose\u001b[0m\u001b[1;33m(\u001b[0m\u001b[0mself\u001b[0m\u001b[1;33m)\u001b[0m\u001b[1;33m:\u001b[0m\u001b[1;33m\u001b[0m\u001b[1;33m\u001b[0m\u001b[0m\n",
      "\u001b[1;32m~\\anaconda3\\lib\\site-packages\\pandas\\io\\parsers.py\u001b[0m in \u001b[0;36m_make_engine\u001b[1;34m(self, engine)\u001b[0m\n\u001b[0;32m   1048\u001b[0m             )\n\u001b[0;32m   1049\u001b[0m         \u001b[1;31m# error: Too many arguments for \"ParserBase\"\u001b[0m\u001b[1;33m\u001b[0m\u001b[1;33m\u001b[0m\u001b[1;33m\u001b[0m\u001b[0m\n\u001b[1;32m-> 1050\u001b[1;33m         \u001b[1;32mreturn\u001b[0m \u001b[0mmapping\u001b[0m\u001b[1;33m[\u001b[0m\u001b[0mengine\u001b[0m\u001b[1;33m]\u001b[0m\u001b[1;33m(\u001b[0m\u001b[0mself\u001b[0m\u001b[1;33m.\u001b[0m\u001b[0mf\u001b[0m\u001b[1;33m,\u001b[0m \u001b[1;33m**\u001b[0m\u001b[0mself\u001b[0m\u001b[1;33m.\u001b[0m\u001b[0moptions\u001b[0m\u001b[1;33m)\u001b[0m  \u001b[1;31m# type: ignore[call-arg]\u001b[0m\u001b[1;33m\u001b[0m\u001b[1;33m\u001b[0m\u001b[0m\n\u001b[0m\u001b[0;32m   1051\u001b[0m \u001b[1;33m\u001b[0m\u001b[0m\n\u001b[0;32m   1052\u001b[0m     \u001b[1;32mdef\u001b[0m \u001b[0m_failover_to_python\u001b[0m\u001b[1;33m(\u001b[0m\u001b[0mself\u001b[0m\u001b[1;33m)\u001b[0m\u001b[1;33m:\u001b[0m\u001b[1;33m\u001b[0m\u001b[1;33m\u001b[0m\u001b[0m\n",
      "\u001b[1;32m~\\anaconda3\\lib\\site-packages\\pandas\\io\\parsers.py\u001b[0m in \u001b[0;36m__init__\u001b[1;34m(self, src, **kwds)\u001b[0m\n\u001b[0;32m   1865\u001b[0m \u001b[1;33m\u001b[0m\u001b[0m\n\u001b[0;32m   1866\u001b[0m         \u001b[1;31m# open handles\u001b[0m\u001b[1;33m\u001b[0m\u001b[1;33m\u001b[0m\u001b[1;33m\u001b[0m\u001b[0m\n\u001b[1;32m-> 1867\u001b[1;33m         \u001b[0mself\u001b[0m\u001b[1;33m.\u001b[0m\u001b[0m_open_handles\u001b[0m\u001b[1;33m(\u001b[0m\u001b[0msrc\u001b[0m\u001b[1;33m,\u001b[0m \u001b[0mkwds\u001b[0m\u001b[1;33m)\u001b[0m\u001b[1;33m\u001b[0m\u001b[1;33m\u001b[0m\u001b[0m\n\u001b[0m\u001b[0;32m   1868\u001b[0m         \u001b[1;32massert\u001b[0m \u001b[0mself\u001b[0m\u001b[1;33m.\u001b[0m\u001b[0mhandles\u001b[0m \u001b[1;32mis\u001b[0m \u001b[1;32mnot\u001b[0m \u001b[1;32mNone\u001b[0m\u001b[1;33m\u001b[0m\u001b[1;33m\u001b[0m\u001b[0m\n\u001b[0;32m   1869\u001b[0m         \u001b[1;32mfor\u001b[0m \u001b[0mkey\u001b[0m \u001b[1;32min\u001b[0m \u001b[1;33m(\u001b[0m\u001b[1;34m\"storage_options\"\u001b[0m\u001b[1;33m,\u001b[0m \u001b[1;34m\"encoding\"\u001b[0m\u001b[1;33m,\u001b[0m \u001b[1;34m\"memory_map\"\u001b[0m\u001b[1;33m,\u001b[0m \u001b[1;34m\"compression\"\u001b[0m\u001b[1;33m)\u001b[0m\u001b[1;33m:\u001b[0m\u001b[1;33m\u001b[0m\u001b[1;33m\u001b[0m\u001b[0m\n",
      "\u001b[1;32m~\\anaconda3\\lib\\site-packages\\pandas\\io\\parsers.py\u001b[0m in \u001b[0;36m_open_handles\u001b[1;34m(self, src, kwds)\u001b[0m\n\u001b[0;32m   1360\u001b[0m         \u001b[0mLet\u001b[0m \u001b[0mthe\u001b[0m \u001b[0mreaders\u001b[0m \u001b[0mopen\u001b[0m \u001b[0mIOHanldes\u001b[0m \u001b[0mafter\u001b[0m \u001b[0mthey\u001b[0m \u001b[0mare\u001b[0m \u001b[0mdone\u001b[0m \u001b[1;32mwith\u001b[0m \u001b[0mtheir\u001b[0m \u001b[0mpotential\u001b[0m \u001b[0mraises\u001b[0m\u001b[1;33m.\u001b[0m\u001b[1;33m\u001b[0m\u001b[1;33m\u001b[0m\u001b[0m\n\u001b[0;32m   1361\u001b[0m         \"\"\"\n\u001b[1;32m-> 1362\u001b[1;33m         self.handles = get_handle(\n\u001b[0m\u001b[0;32m   1363\u001b[0m             \u001b[0msrc\u001b[0m\u001b[1;33m,\u001b[0m\u001b[1;33m\u001b[0m\u001b[1;33m\u001b[0m\u001b[0m\n\u001b[0;32m   1364\u001b[0m             \u001b[1;34m\"r\"\u001b[0m\u001b[1;33m,\u001b[0m\u001b[1;33m\u001b[0m\u001b[1;33m\u001b[0m\u001b[0m\n",
      "\u001b[1;32m~\\anaconda3\\lib\\site-packages\\pandas\\io\\common.py\u001b[0m in \u001b[0;36mget_handle\u001b[1;34m(path_or_buf, mode, encoding, compression, memory_map, is_text, errors, storage_options)\u001b[0m\n\u001b[0;32m    640\u001b[0m                 \u001b[0merrors\u001b[0m \u001b[1;33m=\u001b[0m \u001b[1;34m\"replace\"\u001b[0m\u001b[1;33m\u001b[0m\u001b[1;33m\u001b[0m\u001b[0m\n\u001b[0;32m    641\u001b[0m             \u001b[1;31m# Encoding\u001b[0m\u001b[1;33m\u001b[0m\u001b[1;33m\u001b[0m\u001b[1;33m\u001b[0m\u001b[0m\n\u001b[1;32m--> 642\u001b[1;33m             handle = open(\n\u001b[0m\u001b[0;32m    643\u001b[0m                 \u001b[0mhandle\u001b[0m\u001b[1;33m,\u001b[0m\u001b[1;33m\u001b[0m\u001b[1;33m\u001b[0m\u001b[0m\n\u001b[0;32m    644\u001b[0m                 \u001b[0mioargs\u001b[0m\u001b[1;33m.\u001b[0m\u001b[0mmode\u001b[0m\u001b[1;33m,\u001b[0m\u001b[1;33m\u001b[0m\u001b[1;33m\u001b[0m\u001b[0m\n",
      "\u001b[1;31mFileNotFoundError\u001b[0m: [Errno 2] No such file or directory: './statewide-covid-19-vaccines-administered-by-county.csv'"
     ]
    }
   ],
   "source": [
    "# State wide Covid-19 vaccines administered by county \n",
    "csv_data = pd.read_csv(\"./statewide-covid-19-vaccines-administered-by-county.csv\")\n",
    "ca_vaccin_data_all = csv_data.query('county ==\"All CA Counties\"')\n",
    "\n",
    "# Creating a dataframe with selected columns\n",
    "ca_vaccin_data = pd.DataFrame(ca_vaccin_data_all, columns=['administered_date','total_doses','pfizer_doses',\\\n",
    "                                                         'moderna_doses','jj_doses','partially_vaccinated',\\\n",
    "                                                         'fully_vaccinated'])\n",
    "\n",
    "# Creating dataframe for cumulative vaccination (using for cummulative line graphs)\n",
    "cumulative_vaccin_data = pd.DataFrame(ca_vaccin_data_all, columns=['administered_date','cumulative_total_doses',\\\n",
    "                                                         'total_partially_vaccinated','cumulative_fully_vaccinated'])\n",
    "\n",
    "# Converting the string format of date into datetime and created a new column for month\n",
    "ca_vaccin_data['month'] = pd.DatetimeIndex(ca_vaccin_data['administered_date']).month_name()\n",
    "\n",
    "# Creating a new dataframe with months as variable to be utilized for ploting by months\n",
    "ca_vaccinated = pd.DataFrame(ca_vaccin_data, columns=['month','administered_date','fully_vaccinated','partially_vaccinated'])\n",
    "\n",
    "# The data rows that contains, month = August, are dropped as there were only two days of data in August. \n",
    "\n",
    "ca_vaccin_data = ca_vaccin_data[ca_vaccin_data['month'] != 'August']\n",
    "# ca_vaccin_data\n"
   ]
  },
  {
   "cell_type": "code",
   "execution_count": null,
   "id": "877b1785",
   "metadata": {},
   "outputs": [],
   "source": []
  },
  {
   "cell_type": "code",
   "execution_count": null,
   "id": "4b38a0ce",
   "metadata": {},
   "outputs": [],
   "source": [
    "# Converting the order of months over time of the year (avoiding alphabatically ascending or descending order)\n",
    "month = ca_vaccinated[\"month\"]\n",
    "values = ca_vaccinated['fully_vaccinated']\n",
    "data = {\n",
    "    'month' : [month],\n",
    "    'value' : [values] }\n",
    "\n",
    "month_order = CategoricalDtype(['December', 'January', 'February', 'March', 'April', \\\n",
    "                                'May', 'June', 'July'], ordered=True)\n",
    "\n",
    "ca_vaccinated['month'] = ca_vaccinated['month'].astype(month_order)\n",
    "# ca_vaccinated\n"
   ]
  },
  {
   "cell_type": "code",
   "execution_count": null,
   "id": "50643c37",
   "metadata": {},
   "outputs": [],
   "source": []
  },
  {
   "cell_type": "code",
   "execution_count": null,
   "id": "85cb798e",
   "metadata": {},
   "outputs": [],
   "source": [
    "# Generating a bar plot showing the total number of completed vaccination by months\n",
    "ca_vaccinated_completed = pd.DataFrame(ca_vaccinated, columns=['month','fully_vaccinated', 'partially_vaccinated'])\n",
    "ca_vaccinated_completed_montly = ca_vaccinated_completed.groupby(ca_vaccinated_completed['month']).sum()\n",
    "\n",
    "bar_plot = ca_vaccinated_completed_montly.plot.bar(figsize=(10,8))\n",
    "\n",
    "plt.xlabel(\"Months\",fontsize = 12)\n",
    "plt.ylabel(\"Vaccination Completed in Million\",fontsize = 12)\n",
    "plt.title(\"Vaccinations (fully and partially) by months\",fontsize = 16)\n",
    "\n",
    "plt.tight_layout()\n",
    "\n",
    "plt.savefig(\"./CA_vaccinations_by _months.png\")\n",
    "plt.show()"
   ]
  },
  {
   "cell_type": "code",
   "execution_count": null,
   "id": "c953c084",
   "metadata": {},
   "outputs": [],
   "source": [
    "\n"
   ]
  },
  {
   "cell_type": "code",
   "execution_count": null,
   "id": "b822ad17",
   "metadata": {},
   "outputs": [],
   "source": []
  },
  {
   "cell_type": "code",
   "execution_count": null,
   "id": "36d0fb44",
   "metadata": {},
   "outputs": [],
   "source": [
    "import matplotlib.pyplot as plt\n",
    "import numpy as np\n",
    "\n",
    "dates = ca_vaccinated['administered_date']\n",
    "complete = ca_vaccinated['fully_vaccinated']\n",
    "partial = ca_vaccinated['partially_vaccinated']\n",
    "\n",
    "# Plot the charts and apply some styling\n",
    "\n",
    "complete, = plt.plot(dates, complete, color=\"g\", label=\"complete\")\n",
    "partial, = plt.plot(dates, partial, color=\"b\", label=\"Partial\")\n",
    "\n",
    "# Add labels to X and Y axes :: Add title\n",
    "plt.title(\"Daily Vaccination Over Time\", fontsize = 16)\n",
    "plt.xlabel(\"Vaccination Dates\", fontsize = 12)\n",
    "plt.ylabel(\"vaccinations\", fontsize = 12)\n",
    "\n",
    "# Set the limits for the X and Y axes\n",
    "plt.xlim(0,250)\n",
    "plt.ylim(0,290000)\n",
    "\n",
    "# Create a legend for the chart\n",
    "plt.legend(handles=[complete, partial], loc=\"best\")\n",
    "plt.show()"
   ]
  },
  {
   "cell_type": "code",
   "execution_count": null,
   "id": "54551c27",
   "metadata": {},
   "outputs": [],
   "source": [
    "# Calculating 7 days moving average of complete vaccination\n",
    "\n",
    "complete = ca_vaccinated['fully_vaccinated']\n",
    "complete.plot(figsize=(10,6))\n",
    "complete.rolling(window =7).mean().plot()\n"
   ]
  },
  {
   "cell_type": "code",
   "execution_count": null,
   "id": "943f65fc",
   "metadata": {},
   "outputs": [],
   "source": []
  },
  {
   "cell_type": "code",
   "execution_count": null,
   "id": "0b06279f",
   "metadata": {},
   "outputs": [],
   "source": [
    "# Cumulative_vaccin_data for plotting vaccination coverage over time\n",
    "\n",
    "dates = cumulative_vaccin_data['administered_date']\n",
    "complete = cumulative_vaccin_data['cumulative_fully_vaccinated']/100000\n",
    "partial = cumulative_vaccin_data['total_partially_vaccinated']/100000\n",
    "\n",
    "# Plot the charts and apply some styling\n",
    "plt.fill_between(np.arange(231), complete, color=\"blue\", alpha=0.45, label='complete')\n",
    "plt.fill_between(np.arange(231), partial, color=\"skyblue\", alpha=0.75, label='partial')\n",
    "\n",
    "plt.title(\"Vaccination Coverage Over Time \")\n",
    "plt.xlabel(\"Number of Days (Dec 15, 2020 - Aug 2, 2021) \")\n",
    "plt.ylabel(\"Vaccinations (x 100,000 )\")\n",
    "\n",
    "plt.legend(loc=\"upper left\")\n",
    "plt.show()"
   ]
  },
  {
   "cell_type": "code",
   "execution_count": null,
   "id": "adfeba39",
   "metadata": {},
   "outputs": [],
   "source": []
  },
  {
   "cell_type": "code",
   "execution_count": null,
   "id": "95356c1a",
   "metadata": {},
   "outputs": [],
   "source": [
    "# Selecting only the residence county as reported in the data (elemination method is used)\n",
    "ca_vaccin_data = csv_data.query('county !=\"All CA Counties\"')\n",
    "ca_vaccin_data = ca_vaccin_data.query('county !=\"All CA and Non-CA Counties\"')\n",
    "ca_vaccin_data = ca_vaccin_data.query('county !=\"Outside California\"')\n",
    "ca_vaccin_data = ca_vaccin_data.query('county !=\"Unknown\"')\n",
    "\n",
    "# getting new dataframe for total vaccination (fully and partially vaccinated) by counties\n",
    "\n",
    "county_vac_data = ca_vaccin_data.groupby(ca_vaccin_data['county']).sum()\n",
    "\n",
    "county_vac_data= pd.DataFrame(county_vac_data, columns =['partially_vaccinated', 'fully_vaccinated']).sort_values(by = \\\n",
    "                                                        'fully_vaccinated', ascending = False) \n",
    "# county_vac_data\n"
   ]
  },
  {
   "cell_type": "code",
   "execution_count": null,
   "id": "b4d30faa",
   "metadata": {},
   "outputs": [],
   "source": [
    "county_vac_data.plot(y = ['partially_vaccinated', 'fully_vaccinated'], kind='bar', figsize=(20,12))  #.bar(figsize=(16,9), color='g', alpha = 0.75)\n",
    "\n",
    "plt.xlabel(\"CA Counties \",fontsize = 12)\n",
    "plt.ylabel(\"Vaccination (in million)\",fontsize = 12)\n",
    "plt.title(\"Vaccination (full and partial) by Counties\",fontsize = 16)\n",
    "plt.show()\n"
   ]
  },
  {
   "cell_type": "code",
   "execution_count": null,
   "id": "05afd796",
   "metadata": {},
   "outputs": [],
   "source": []
  },
  {
   "cell_type": "code",
   "execution_count": null,
   "id": "19725ad7",
   "metadata": {},
   "outputs": [],
   "source": []
  },
  {
   "cell_type": "code",
   "execution_count": null,
   "id": "3e486aba",
   "metadata": {},
   "outputs": [],
   "source": []
  },
  {
   "cell_type": "code",
   "execution_count": null,
   "id": "a05422c4",
   "metadata": {},
   "outputs": [],
   "source": []
  },
  {
   "cell_type": "code",
   "execution_count": null,
   "id": "52102d88",
   "metadata": {},
   "outputs": [],
   "source": [
    "# Reading the data file for population by county\n",
    "pop_data = pd.read_csv(\"./CA_county_pop.csv\")   # Source: https://www.california-demographics.com/counties_by_population\n",
    "pop_data = pd.DataFrame(pop_data)\n",
    "\n",
    "''' In order to merge with the vaccination data, the population data was cleaned with their county names by removing the \n",
    " word \"County\" from their names and merged to get a new datafile ''' \n",
    "\n",
    "county = []\n",
    "county_name = pop_data['County']\n",
    "for i in county_name:\n",
    "        size = len(i)\n",
    "        mod_name = i[:size-7]\n",
    "        county.append(mod_name)\n",
    "\n",
    "pop_data['county'] = county\n",
    "county_pop_data = pop_data[['county', 'Population']]\n",
    "pop = pop_data['Population']\n",
    "\n",
    "county_pop_vac_data = pd.merge(county_pop_data, county_vac_data, on = 'county', how = 'left')\n",
    "\n",
    "county_pop_vac_data.to_csv(\"./CA_county_population_and_vaccination_data.csv\", index=False)\n",
    "# print(county)"
   ]
  },
  {
   "cell_type": "code",
   "execution_count": null,
   "id": "6623abef",
   "metadata": {},
   "outputs": [],
   "source": [
    "county_pop_vac_data = pd.read_csv(\"./CA_county_population_and_vaccination_data.csv\", encoding = 'utf8')\n",
    "county_pop_vac_data['Population'] = county_pop_vac_data['Population'].str.replace(',', '').astype(float)\n",
    "\n",
    "county_pop_vac_data['Population']\n",
    "\n",
    "\n",
    "county_pop_vac_data.plot(x=\"county\", y = ['fully_vaccinated' ,'partially_vaccinated', 'Population'], kind=\"bar\", figsize=(20,12))\n",
    "\n",
    "plt.xlabel(\"CA Counties \",fontsize = 12)\n",
    "plt.ylabel(\"Vaccination (in million)\",fontsize = 12)\n",
    "plt.title(\"Vaccinations by Counties\",fontsize = 16)\n",
    "plt.show()\n",
    "\n",
    "\n"
   ]
  },
  {
   "cell_type": "code",
   "execution_count": null,
   "id": "65b483e2",
   "metadata": {},
   "outputs": [],
   "source": []
  },
  {
   "cell_type": "code",
   "execution_count": null,
   "id": "dc3f4993",
   "metadata": {
    "scrolled": true
   },
   "outputs": [],
   "source": [
    "'''Since the chart based on the actual counts of population, and vaccinations, some of the highly populated counties are not\n",
    "comparable to the low populated counties. Percentage of the vaccinations on total population is calculated and ploted.''' \n",
    "\n",
    "county_pop_vac_data['Population'] = county_pop_vac_data['Population'].astype(float)\n",
    "county_pop_vac_data['fully_vaccinated'] = county_pop_vac_data['fully_vaccinated'].astype(float) \n",
    "county_pop_vac_data['partially_vaccinated'] = county_pop_vac_data['partially_vaccinated'].astype(float)\n",
    "\n",
    "county_pop_vac_data['full_percent'] = (county_pop_vac_data['fully_vaccinated'] / county_pop_vac_data['Population']) * 100\n",
    "county_pop_vac_data['partial_percent'] = (county_pop_vac_data['partially_vaccinated'] / county_pop_vac_data['Population']) * 100\n",
    "\n",
    "# county_pop_vac_data['full_percent']\n",
    "# county_pop_vac_data['partial_percent']\n"
   ]
  },
  {
   "cell_type": "code",
   "execution_count": null,
   "id": "4c2cee21",
   "metadata": {},
   "outputs": [],
   "source": [
    "county_pop_vac_data.plot(x=\"county\", y = ['full_percent'], kind=\"bar\", figsize=(20,12))\n",
    "\n",
    "plt.xlabel(\" ->>> Counties (large to small population size)  ->>> \",fontsize = 12)\n",
    "plt.ylabel(\"Complete Vaccination ( % ) of the total population\",fontsize = 12)\n",
    "plt.title(\"Percentages of Complete Vaccinations by Counties\",fontsize = 16)\n",
    "plt.show()\n"
   ]
  },
  {
   "cell_type": "code",
   "execution_count": null,
   "id": "1a38777a",
   "metadata": {},
   "outputs": [],
   "source": []
  },
  {
   "cell_type": "code",
   "execution_count": null,
   "id": "fbf9bdd0",
   "metadata": {},
   "outputs": [],
   "source": [
    "# Perform a linear regression on population versus complete vaccination\n",
    "x_value = county_pop_vac_data['Population']/1000\n",
    "y_value = county_pop_vac_data['fully_vaccinated']/1000\n",
    "(slope, intercept, rvalue, pvalue, stderr) = linregress(x_value, y_value)\n",
    "regress_value = x_value * slope + intercept\n",
    "line_eq = \"y = \" + str(round(slope,2)) + \"x + \" + str(round(intercept,2))\n",
    "\n",
    "plt.scatter(x_value,y_value)\n",
    "plt.plot(x_value,regress_value,\"r-\")\n",
    "plt.annotate(line_eq,(3000,1000),fontsize=15,color=\"red\")\n",
    "plt.xlabel('Population (in 1,000)')\n",
    "plt.ylabel('Vaccinations (in 1,000)')\n",
    "plt.show()\n",
    "\n"
   ]
  },
  {
   "cell_type": "code",
   "execution_count": null,
   "id": "e2d8a555",
   "metadata": {},
   "outputs": [],
   "source": []
  },
  {
   "cell_type": "code",
   "execution_count": null,
   "id": "cd45cab4",
   "metadata": {},
   "outputs": [],
   "source": [
    "# Gettign geo location of California Counties\n",
    "us_county_geo = pd.read_csv(\"./uscounties_geolocation.csv\")   # Source: https://simplemaps.com/data/us-counties (updated 02/24/2021)\n",
    "ca_county_geo = us_county_geo.query('state_id == \"CA\"')\n",
    "ca_county_geo = pd.DataFrame(ca_county_geo, columns = ['county', 'lat', 'lng'])\n",
    "\n",
    "# Merging vaccination data with the geolocation data by counties\n",
    "county_pop_vac_geo = pd.merge(county_pop_vac_data, ca_county_geo, on = 'county', how = 'left')\n",
    "county_pop_vac_geo.head()\n",
    "\n"
   ]
  },
  {
   "cell_type": "code",
   "execution_count": null,
   "id": "b5cbde1f",
   "metadata": {},
   "outputs": [],
   "source": [
    "# Creating map for counties with the vaccination coverages\n",
    "\n",
    "from api_keys import g_key\n",
    "\n",
    "gmaps.configure(api_key=g_key)\n",
    "\n",
    "\n",
    "# Store latitude and longitude in locations\n",
    "\n",
    "locations = county_pop_vac_geo[[\"lat\", \"lng\"]]\n",
    "\n",
    "vaccination_coverage = county_pop_vac_geo['fully_vaccinated']\n",
    "\n",
    "\n",
    "# Plot Heatmap\n",
    "fig = gmaps.figure()\n",
    "\n",
    "# Create heat layer\n",
    "heat_layer = gmaps.heatmap_layer(locations, weights = vaccination_coverage, dissipating=False,\\\n",
    "                                 max_intensity= 5, point_radius=1)\n",
    "\n",
    "\n",
    "# Add layer\n",
    "fig.add_layer(heat_layer)\n",
    "\n",
    "# Display figure\n",
    "\n",
    "fig"
   ]
  },
  {
   "cell_type": "code",
   "execution_count": null,
   "id": "9ff8f3af",
   "metadata": {},
   "outputs": [],
   "source": []
  }
 ],
 "metadata": {
  "kernelspec": {
   "display_name": "Python 3",
   "language": "python",
   "name": "python3"
  },
  "language_info": {
   "codemirror_mode": {
    "name": "ipython",
    "version": 3
   },
   "file_extension": ".py",
   "mimetype": "text/x-python",
   "name": "python",
   "nbconvert_exporter": "python",
   "pygments_lexer": "ipython3",
   "version": "3.8.8"
  }
 },
 "nbformat": 4,
 "nbformat_minor": 5
}
