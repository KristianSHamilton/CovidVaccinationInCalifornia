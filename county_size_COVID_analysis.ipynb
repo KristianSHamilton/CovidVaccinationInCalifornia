{
 "cells": [
  {
   "cell_type": "code",
   "execution_count": 11,
   "id": "80b7a69e",
   "metadata": {},
   "outputs": [],
   "source": [
    "import pandas as pd\n",
    "import json\n",
    "import matplotlib.pyplot as plt\n",
    "from matplotlib.pyplot import figure\n",
    "from scipy.stats import linregress\n",
    "import numpy as np\n",
    "import os\n",
    "import csv\n",
    "from pandas.api.types import CategoricalDtype\n",
    "low_memory = False\n"
   ]
  },
  {
   "cell_type": "code",
   "execution_count": 2,
   "id": "9101b352",
   "metadata": {},
   "outputs": [],
   "source": [
    "#smallest = <100,000\n",
    "#smaller = 100,001-500,000\n",
    "#medium = 500,001-1,000,000\n",
    "#large = >1,000,000\n",
    "#or:LA, San Diego\n",
    "#Sacramento, San Mateo\n",
    "#Lake County, Kings County"
   ]
  },
  {
   "cell_type": "code",
   "execution_count": 12,
   "id": "b5a2e389",
   "metadata": {},
   "outputs": [
    {
     "data": {
      "text/plain": [
       "0     10081570.0\n",
       "1      3316073.0\n",
       "2      3168044.0\n",
       "3      2411439.0\n",
       "4      2149031.0\n",
       "5      1927470.0\n",
       "6      1656754.0\n",
       "7      1524553.0\n",
       "8      1142251.0\n",
       "9       984521.0\n",
       "10      887641.0\n",
       "11      874961.0\n",
       "12      847263.0\n",
       "13      767423.0\n",
       "14      742603.0\n",
       "15      543194.0\n",
       "16      499772.0\n",
       "17      461898.0\n",
       "18      444829.0\n",
       "19      441829.0\n",
       "20      433410.0\n",
       "21      385512.0\n",
       "22      282165.0\n",
       "23      273962.0\n",
       "24      271382.0\n",
       "25      259943.0\n",
       "26      225817.0\n",
       "27      217352.0\n",
       "28      188563.0\n",
       "29      180701.0\n",
       "30      179212.0\n",
       "31      155433.0\n",
       "32      150691.0\n",
       "33      139623.0\n",
       "34      135940.0\n",
       "35       99244.0\n",
       "36       96109.0\n",
       "37       87224.0\n",
       "38       76360.0\n",
       "39       64195.0\n",
       "40       63912.0\n",
       "41       60376.0\n",
       "42       54045.0\n",
       "43       45514.0\n",
       "44       43468.0\n",
       "45       38429.0\n",
       "46       30818.0\n",
       "47       27976.0\n",
       "48       27495.0\n",
       "49       21454.0\n",
       "50       18660.0\n",
       "51       17977.0\n",
       "52       17420.0\n",
       "53       14310.0\n",
       "54       12700.0\n",
       "55        8907.0\n",
       "56        3040.0\n",
       "57        1039.0\n",
       "Name: Population, dtype: float64"
      ]
     },
     "execution_count": 12,
     "metadata": {},
     "output_type": "execute_result"
    }
   ],
   "source": [
    "pop_path = './Resources/CA_county_pop.csv'\n",
    "population_df = pd.read_csv(pop_path, encoding ='utf8')\n",
    "population_df['Population'] = population_df['Population'].str.replace(',', '').astype(float)\n",
    "population_df = pd.DataFrame(population_df)\n",
    "pd.to_numeric(population_df['Population'])\n",
    "#population_df#['Population']\n"
   ]
  },
  {
   "cell_type": "code",
   "execution_count": null,
   "id": "d7c8d9d7",
   "metadata": {},
   "outputs": [],
   "source": [
    "large_county = population_df.loc[(population_df['Population']) > 1000000]"
   ]
  }
 ],
 "metadata": {
  "kernelspec": {
   "display_name": "Python 3",
   "language": "python",
   "name": "python3"
  },
  "language_info": {
   "codemirror_mode": {
    "name": "ipython",
    "version": 3
   },
   "file_extension": ".py",
   "mimetype": "text/x-python",
   "name": "python",
   "nbconvert_exporter": "python",
   "pygments_lexer": "ipython3",
   "version": "3.8.8"
  }
 },
 "nbformat": 4,
 "nbformat_minor": 5
}
