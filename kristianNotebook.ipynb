{
 "cells": [
  {
   "cell_type": "code",
   "execution_count": null,
   "id": "46eb634c",
   "metadata": {},
   "outputs": [],
   "source": [
    "import pandas as pd\n",
    "import numpy as np\n",
    "import matplotlib.pyplot as plt\n",
    "from scipy.stats import linregress\n",
    "\n",
    "CHHS_Path = \"./Resources/CHHS_Vaccines_Administered_by_County/130d7ba2-b6eb-438d-a412-741bde207e1c (1).csv\"\n",
    "Census_Path = \"./Resources/Census_Demo_Stats_by_County/ACSDP5Y2019.DP02_data_with_overlays_2021-08-05T001535.csv\"\n",
    "\n",
    "censusDemo_df = pd.read_csv(Census_Path)\n",
    "\n",
    "#Fixes header for the census dataframe\n",
    "newHeader = censusDemo_df.iloc[0]\n",
    "censusDemo_df = censusDemo_df[1:]\n",
    "censusDemo_df.columns = newHeader\n",
    "\n",
    "CHHS_df = pd.read_csv(CHHS_Path)\n",
    "\n",
    "censusDemo_df.head()\n"
   ]
  },
  {
   "cell_type": "code",
   "execution_count": null,
   "id": "677dab90",
   "metadata": {},
   "outputs": [],
   "source": [
    "countyList = [\"Alameda\", \"Alpine\", \"Amador\", \"Butte\", \"Calaveras\", \"Colusa\", \"Contra Costa\", \"Del Norte\", \"El Dorado\", \"Fresno\", \n",
    "              \"Glenn\", \"Humboldt\", \"Imperial\", \"Inyo\", \"Kern\", \"Kings\", \"Lake\", \"Lassen\", \"Los Angeles\", \"Madera\", \n",
    "              \"Marin\", \"Mariposa\", \"Mendocino\", \"Merced\", \"Modoc\", \"Mono\", \"Monterey\", \"Napa\", \"Nevada\", \"Orange\", \"Placer\", \n",
    "              \"Plumas\", \"Riverside\", \"Sacramento\", \"San Benito\", \"San Bernardino\", \"San Diego\", \"San Francisco\", \"San Joaquin\", \n",
    "              \"San Luis Obispo\", \"San Mateo\", \"Santa Barbara\", \"Santa Clara\", \"Santa Cruz\", \"Shasta\", \"Sierra\", \"Siskiyou\", \"Solano\", \n",
    "              \"Sonoma\", \"Stanislaus\", \"Sutter\", \"Tehama\", \"Trinity\", \"Tulare\", \"Tuolumne\", \"Ventura\", \"Yolo\", \"Yuba\"]\n",
    "\n",
    "totalFullyVax = []\n",
    "\n",
    "county_df = pd.DataFrame({\"County\" : []})\n",
    "\n",
    "#add list of counties to dataframe\n",
    "county_df[\"County\"] = countyList\n",
    "\n",
    "#remove numerical index and replace with county names\n",
    "county_df.set_index(\"County\", inplace = True)\n"
   ]
  },
  {
   "cell_type": "code",
   "execution_count": null,
   "id": "73a823fd",
   "metadata": {},
   "outputs": [],
   "source": [
    "#compile dataframe for use with plots Estimate!!VETERAN STATUS!!Civilian population 18 years and over!!Civilian veterans\n",
    "for x in countyList:\n",
    "    county_df.loc[x, \"Total Fully Vaccinated\"] = CHHS_df.loc[CHHS_df['county'] == x, \"fully_vaccinated\"].sum()\n",
    "    county_df.loc[x, \"Avg People per Household\"] = censusDemo_df.loc[censusDemo_df['Geographic Area Name'] == (x + ' County, California'), 'Estimate!!HOUSEHOLDS BY TYPE!!Total households!!Average household size'].sum()\n",
    "    county_df.loc[x, \"Grandparents living w/ grandchildren under 18\"] = censusDemo_df.loc[censusDemo_df['Geographic Area Name'] == (x + ' County, California'), 'Estimate!!GRANDPARENTS!!Number of grandparents living with own grandchildren under 18 years'].sum()\n",
    "    county_df.loc[x, \"Civilian population 18 years and over: Total Civilians\"] = censusDemo_df.loc[censusDemo_df['Geographic Area Name'] == (x + ' County, California'), 'Estimate!!VETERAN STATUS!!Civilian population 18 years and over'].sum()\n",
    "    county_df.loc[x, \"Civilian population 18 years and over: Total Civilian Veterans\"] = censusDemo_df.loc[censusDemo_df['Geographic Area Name'] == (x + ' County, California'), 'Estimate!!VETERAN STATUS!!Civilian population 18 years and over!!Civilian veterans'].sum()\n",
    "    county_df.loc[x, \"Civilian population 18 years and over: % Civilian Veterans\"] = censusDemo_df.loc[censusDemo_df['Geographic Area Name'] == (x + ' County, California'), 'Percent!!VETERAN STATUS!!Civilian population 18 years and over!!Civilian veterans'].sum()\n",
    "    \n",
    "    county_df"
   ]
  },
  {
   "cell_type": "code",
   "execution_count": null,
   "id": "dc0f68b9",
   "metadata": {},
   "outputs": [],
   "source": [
    "#function for linear regression and scatter plot\n",
    "def plotLinearRegression(xValues, yValues, title, xLabel, yLabel, textCoordinates):\n",
    "    \n",
    "    #regression formula\n",
    "    (slope, intercept, rvalue, pvalue, stderr) = linregress(xValues, yValues)\n",
    "    regressValues = xValues * slope + intercept\n",
    "    lineEquation = \"y = \" + str(round(slope, 2)) + \"x + \" + str(round(intercept, 2))\n",
    "    \n",
    "    #scatter plot and regression line plot\n",
    "    plt.scatter(xValues, yValues)\n",
    "    plt.plot(xValues, regressValues, \"r-\", color = \"orange\")\n",
    "    plt.annotate(lineEquation, textCoordinates, fontsize = 10, color = \"orange\")\n",
    "    plt.xlabel(xLabel)\n",
    "    plt.ylabel(yLabel)\n",
    "    plt.title(title)\n",
    "    print(f\"r is : {rvalue}\")\n",
    "    plt.show()"
   ]
  },
  {
   "cell_type": "code",
   "execution_count": null,
   "id": "dbe30ed4",
   "metadata": {},
   "outputs": [],
   "source": []
  },
  {
   "cell_type": "code",
   "execution_count": null,
   "id": "cf40e2e3",
   "metadata": {},
   "outputs": [],
   "source": [
    "totalFullyVax = county_df[\"Total Fully Vaccinated\"]\n",
    "avgPeopleHouse = county_df[\"Avg People per Household\"]\n",
    "\n",
    "\n",
    "plotLinearRegression(totalFullyVax, grandparentsGchildrenUnd18, \"test\", \"test\", \"test\", (60,60))"
   ]
  },
  {
   "cell_type": "code",
   "execution_count": null,
   "id": "dacff305",
   "metadata": {},
   "outputs": [],
   "source": []
  }
 ],
 "metadata": {
  "kernelspec": {
   "display_name": "Python 3",
   "language": "python",
   "name": "python3"
  },
  "language_info": {
   "codemirror_mode": {
    "name": "ipython",
    "version": 3
   },
   "file_extension": ".py",
   "mimetype": "text/x-python",
   "name": "python",
   "nbconvert_exporter": "python",
   "pygments_lexer": "ipython3",
   "version": "3.8.8"
  }
 },
 "nbformat": 4,
 "nbformat_minor": 5
}
