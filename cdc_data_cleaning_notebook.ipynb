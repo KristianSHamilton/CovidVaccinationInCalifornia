{
 "cells": [
  {
   "cell_type": "code",
   "execution_count": null,
   "id": "153d8631",
   "metadata": {},
   "outputs": [],
   "source": [
    "import pandas as pd\n",
    "import json\n",
    "import matplotlib.pyplot as plt\n",
    "import numpy as np\n",
    "import os\n",
    "import csv"
   ]
  },
  {
   "cell_type": "code",
   "execution_count": null,
   "id": "3e7eb9a4",
   "metadata": {},
   "outputs": [],
   "source": [
    "#read in all CDC COVID data for the US as of early August\n",
    "csv_cdcpath = \"./covid19_cdc_us_data.csv\"\n",
    "cdc_data = pd.read_csv(csv_cdcpath, encoding=\"utf-8\")\n",
    "cdc_data_df = pd.DataFrame(cdc_data)\n",
    "cdc_data_df.head()"
   ]
  },
  {
   "cell_type": "code",
   "execution_count": null,
   "id": "51c149ac",
   "metadata": {},
   "outputs": [],
   "source": [
    "#filter to only include data for CA\n",
    "ca_cdc_data = cdc_data_df.loc[cdc_data_df['res_state'] == 'CA' ]\n",
    "ca_cdc_data.head()"
   ]
  },
  {
   "cell_type": "code",
   "execution_count": null,
   "id": "92d3df77",
   "metadata": {},
   "outputs": [],
   "source": [
    "#filter again to only include month, state, county, age group, current status, sex, race, and ethnicity\n",
    "ca_cdc_data_short = ca_cdc_data[['case_month', 'res_state', 'res_county',\n",
    "                                 'age_group', 'current_status', 'sex', 'race', 'ethnicity' ]]\n",
    "ca_cdc_data_short.head(2)\n",
    "#write the narrowed results to a csv and start a new notebook so that the computer\n",
    "#doesn't have to read a 4GB file every time the kernel is restarted\n",
    "\n",
    "ca_output_data = 'ca_output_data.csv'\n",
    "ca_cdc_data_short.to_csv(ca_output_data, index = False)"
   ]
  },
  {
   "cell_type": "code",
   "execution_count": null,
   "id": "a6c17571",
   "metadata": {},
   "outputs": [],
   "source": []
  }
 ],
 "metadata": {
  "kernelspec": {
   "display_name": "Python 3",
   "language": "python",
   "name": "python3"
  },
  "language_info": {
   "codemirror_mode": {
    "name": "ipython",
    "version": 3
   },
   "file_extension": ".py",
   "mimetype": "text/x-python",
   "name": "python",
   "nbconvert_exporter": "python",
   "pygments_lexer": "ipython3",
   "version": "3.8.8"
  }
 },
 "nbformat": 4,
 "nbformat_minor": 5
}
